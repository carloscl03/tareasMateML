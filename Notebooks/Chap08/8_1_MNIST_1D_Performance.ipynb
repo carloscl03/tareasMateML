{
  "nbformat": 4,
  "nbformat_minor": 0,
  "metadata": {
    "colab": {
      "provenance": [],
      "gpuType": "T4",
      "include_colab_link": true
    },
    "kernelspec": {
      "name": "python3",
      "display_name": "Python 3"
    },
    "language_info": {
      "name": "python"
    },
    "accelerator": "GPU"
  },
  "cells": [
    {
      "cell_type": "markdown",
      "metadata": {
        "id": "view-in-github",
        "colab_type": "text"
      },
      "source": [
        "<a href=\"https://colab.research.google.com/github/carloscl03/tareasMateML/blob/main/Notebooks/Chap08/8_1_MNIST_1D_Performance.ipynb\" target=\"_parent\"><img src=\"https://colab.research.google.com/assets/colab-badge.svg\" alt=\"Open In Colab\"/></a>"
      ]
    },
    {
      "cell_type": "markdown",
      "source": [
        "# **Notebook 8.1: MNIST_1D_Performance**\n",
        "\n",
        "This notebook runs a simple neural network on the MNIST1D dataset as in figure 8.2a. It uses code from https://github.com/greydanus/mnist1d to generate the data.\n",
        "\n",
        "Work through the cells below, running each cell in turn. In various places you will see the words \"TO DO\". Follow the instructions at these places and make predictions about what is going to happen or write code to complete the functions.\n",
        "\n",
        "Contact me at udlbookmail@gmail.com if you find any mistakes or have any suggestions."
      ],
      "metadata": {
        "id": "L6chybAVFJW2"
      }
    },
    {
      "cell_type": "code",
      "source": [
        "# Run this if you're in a Colab to install MNIST 1D repository\n",
        "%pip install git+https://github.com/greydanus/mnist1d"
      ],
      "metadata": {
        "id": "ifVjS4cTOqKz",
        "outputId": "7f7699fd-c303-42c2-8801-a8d88334858e",
        "colab": {
          "base_uri": "https://localhost:8080/"
        }
      },
      "execution_count": 1,
      "outputs": [
        {
          "output_type": "stream",
          "name": "stdout",
          "text": [
            "Collecting git+https://github.com/greydanus/mnist1d\n",
            "  Cloning https://github.com/greydanus/mnist1d to /tmp/pip-req-build-i63m_wla\n",
            "  Running command git clone --filter=blob:none --quiet https://github.com/greydanus/mnist1d /tmp/pip-req-build-i63m_wla\n",
            "  Resolved https://github.com/greydanus/mnist1d to commit 350929d12f4c9a4b7355e0c96604e41b9239bdb4\n",
            "  Installing build dependencies ... \u001b[?25l\u001b[?25hdone\n",
            "  Getting requirements to build wheel ... \u001b[?25l\u001b[?25hdone\n",
            "  Installing backend dependencies ... \u001b[?25l\u001b[?25hdone\n",
            "  Preparing metadata (pyproject.toml) ... \u001b[?25l\u001b[?25hdone\n",
            "Requirement already satisfied: requests in /usr/local/lib/python3.10/dist-packages (from mnist1d==0.0.2.post9) (2.31.0)\n",
            "Requirement already satisfied: numpy in /usr/local/lib/python3.10/dist-packages (from mnist1d==0.0.2.post9) (1.25.2)\n",
            "Requirement already satisfied: matplotlib in /usr/local/lib/python3.10/dist-packages (from mnist1d==0.0.2.post9) (3.7.1)\n",
            "Requirement already satisfied: scipy in /usr/local/lib/python3.10/dist-packages (from mnist1d==0.0.2.post9) (1.11.4)\n",
            "Requirement already satisfied: contourpy>=1.0.1 in /usr/local/lib/python3.10/dist-packages (from matplotlib->mnist1d==0.0.2.post9) (1.2.1)\n",
            "Requirement already satisfied: cycler>=0.10 in /usr/local/lib/python3.10/dist-packages (from matplotlib->mnist1d==0.0.2.post9) (0.12.1)\n",
            "Requirement already satisfied: fonttools>=4.22.0 in /usr/local/lib/python3.10/dist-packages (from matplotlib->mnist1d==0.0.2.post9) (4.53.0)\n",
            "Requirement already satisfied: kiwisolver>=1.0.1 in /usr/local/lib/python3.10/dist-packages (from matplotlib->mnist1d==0.0.2.post9) (1.4.5)\n",
            "Requirement already satisfied: packaging>=20.0 in /usr/local/lib/python3.10/dist-packages (from matplotlib->mnist1d==0.0.2.post9) (24.0)\n",
            "Requirement already satisfied: pillow>=6.2.0 in /usr/local/lib/python3.10/dist-packages (from matplotlib->mnist1d==0.0.2.post9) (9.4.0)\n",
            "Requirement already satisfied: pyparsing>=2.3.1 in /usr/local/lib/python3.10/dist-packages (from matplotlib->mnist1d==0.0.2.post9) (3.1.2)\n",
            "Requirement already satisfied: python-dateutil>=2.7 in /usr/local/lib/python3.10/dist-packages (from matplotlib->mnist1d==0.0.2.post9) (2.8.2)\n",
            "Requirement already satisfied: charset-normalizer<4,>=2 in /usr/local/lib/python3.10/dist-packages (from requests->mnist1d==0.0.2.post9) (3.3.2)\n",
            "Requirement already satisfied: idna<4,>=2.5 in /usr/local/lib/python3.10/dist-packages (from requests->mnist1d==0.0.2.post9) (3.7)\n",
            "Requirement already satisfied: urllib3<3,>=1.21.1 in /usr/local/lib/python3.10/dist-packages (from requests->mnist1d==0.0.2.post9) (2.0.7)\n",
            "Requirement already satisfied: certifi>=2017.4.17 in /usr/local/lib/python3.10/dist-packages (from requests->mnist1d==0.0.2.post9) (2024.6.2)\n",
            "Requirement already satisfied: six>=1.5 in /usr/local/lib/python3.10/dist-packages (from python-dateutil>=2.7->matplotlib->mnist1d==0.0.2.post9) (1.16.0)\n",
            "Building wheels for collected packages: mnist1d\n",
            "  Building wheel for mnist1d (pyproject.toml) ... \u001b[?25l\u001b[?25hdone\n",
            "  Created wheel for mnist1d: filename=mnist1d-0.0.2.post9-py3-none-any.whl size=14497 sha256=35be83dc8bf07a730389380251cd8f6ffb8b53655a27fc4ee8ebc4fec484b614\n",
            "  Stored in directory: /tmp/pip-ephem-wheel-cache-3m4bd7pr/wheels/41/95/55/45fcf7d38cfa97e35682da6c5017d4513729131326ce935371\n",
            "Successfully built mnist1d\n",
            "Installing collected packages: mnist1d\n",
            "Successfully installed mnist1d-0.0.2.post9\n"
          ]
        }
      ]
    },
    {
      "cell_type": "code",
      "source": [
        "import torch, torch.nn as nn\n",
        "from torch.utils.data import TensorDataset, DataLoader\n",
        "from torch.optim.lr_scheduler import StepLR\n",
        "import numpy as np\n",
        "import matplotlib.pyplot as plt\n",
        "import mnist1d"
      ],
      "metadata": {
        "id": "qyE7G1StPIqO"
      },
      "execution_count": 2,
      "outputs": []
    },
    {
      "cell_type": "markdown",
      "source": [
        "Let's generate a training and test dataset using the MNIST1D code.  The dataset gets saved as a .pkl file so it doesn't have to be regenerated each time."
      ],
      "metadata": {
        "id": "F7LNq72SP6jO"
      }
    },
    {
      "cell_type": "code",
      "source": [
        "!mkdir ./sample_data\n",
        "\n",
        "args = mnist1d.data.get_dataset_args()\n",
        "data = mnist1d.data.get_dataset(args, path='./sample_data/mnist1d_data.pkl', download=False, regenerate=False)\n",
        "\n",
        "# The training and test input and outputs are in\n",
        "# data['x'], data['y'], data['x_test'], and data['y_test']\n",
        "print(\"Examples in training set: {}\".format(len(data['y'])))\n",
        "print(\"Examples in test set: {}\".format(len(data['y_test'])))\n",
        "print(\"Length of each example: {}\".format(data['x'].shape[-1]))"
      ],
      "metadata": {
        "id": "YLxf7dJfPaqw",
        "outputId": "9471cb94-8be3-4f5b-dbfe-baf0da83fda1",
        "colab": {
          "base_uri": "https://localhost:8080/"
        }
      },
      "execution_count": 3,
      "outputs": [
        {
          "output_type": "stream",
          "name": "stdout",
          "text": [
            "mkdir: cannot create directory ‘./sample_data’: File exists\n",
            "Did or could not load data from ./sample_data/mnist1d_data.pkl. Rebuilding dataset...\n",
            "Examples in training set: 4000\n",
            "Examples in test set: 1000\n",
            "Length of each example: 40\n"
          ]
        }
      ]
    },
    {
      "cell_type": "code",
      "source": [
        "D_i = 40    # Input dimensions\n",
        "D_k = 100   # Hidden dimensions\n",
        "D_o = 10    # Output dimensions\n",
        "# TO DO:\n",
        "# Define a model with two hidden layers of size 100\n",
        "# And ReLU activations between them\n",
        "# Replace this line (see Figure 7.8 of book for help):\n",
        "model = torch.nn.Sequential(\n",
        "    torch.nn.Linear(D_i, D_k),  # First hidden layer with input dimensions D_i and hidden dimensions D_k\n",
        "    torch.nn.ReLU(),  # ReLU activation function\n",
        "    torch.nn.Linear(D_k, D_k),  # Second hidden layer with hidden dimensions D_k\n",
        "    torch.nn.ReLU(),  # ReLU activation function\n",
        "    torch.nn.Linear(D_k, D_o)  # Output layer with output dimensions D_o\n",
        ")\n",
        "\n",
        "def weights_init(layer_in):\n",
        "  # TO DO:\n",
        "  # Initialize the parameters with He initialization\n",
        "  # Replace this line (see figure 7.8 of book for help)\n",
        "  if isinstance(layer_in, nn.Linear):\n",
        "        nn.init.kaiming_normal_(layer_in.weight)\n",
        "        nn.init.constant_(layer_in.bias, 0)\n",
        "        print(\"Initialized layer:\", layer_in)\n",
        "\n",
        "\n",
        "# Call the function you just defined\n",
        "model.apply(weights_init)\n"
      ],
      "metadata": {
        "id": "FxaB5vc0uevl",
        "outputId": "a7503196-c79c-4280-875e-0e48594808c8",
        "colab": {
          "base_uri": "https://localhost:8080/"
        }
      },
      "execution_count": 4,
      "outputs": [
        {
          "output_type": "stream",
          "name": "stdout",
          "text": [
            "Initialized layer: Linear(in_features=40, out_features=100, bias=True)\n",
            "Initialized layer: Linear(in_features=100, out_features=100, bias=True)\n",
            "Initialized layer: Linear(in_features=100, out_features=10, bias=True)\n"
          ]
        },
        {
          "output_type": "execute_result",
          "data": {
            "text/plain": [
              "Sequential(\n",
              "  (0): Linear(in_features=40, out_features=100, bias=True)\n",
              "  (1): ReLU()\n",
              "  (2): Linear(in_features=100, out_features=100, bias=True)\n",
              "  (3): ReLU()\n",
              "  (4): Linear(in_features=100, out_features=10, bias=True)\n",
              ")"
            ]
          },
          "metadata": {},
          "execution_count": 4
        }
      ]
    },
    {
      "cell_type": "code",
      "source": [
        "# choose cross entropy loss function (equation 5.24)\n",
        "loss_function = torch.nn.CrossEntropyLoss()\n",
        "# construct SGD optimizer and initialize learning rate and momentum\n",
        "optimizer = torch.optim.SGD(model.parameters(), lr = 0.05, momentum=0.9)\n",
        "# object that decreases learning rate by half every 10 epochs\n",
        "scheduler = StepLR(optimizer, step_size=10, gamma=0.5)\n",
        "x_train = torch.tensor(data['x'].astype('float32'))\n",
        "y_train = torch.tensor(data['y'].transpose().astype('long'))\n",
        "x_test= torch.tensor(data['x_test'].astype('float32'))\n",
        "y_test = torch.tensor(data['y_test'].astype('long'))\n",
        "\n",
        "# load the data into a class that creates the batches\n",
        "data_loader = DataLoader(TensorDataset(x_train,y_train), batch_size=100, shuffle=True, worker_init_fn=np.random.seed(1))\n",
        "\n",
        "# Initialize model weights\n",
        "model.apply(weights_init)\n",
        "\n",
        "# loop over the dataset n_epoch times\n",
        "n_epoch = 90\n",
        "# store the loss and the % correct at each epoch\n",
        "losses_train = np.zeros((n_epoch))\n",
        "errors_train = np.zeros((n_epoch))\n",
        "losses_test = np.zeros((n_epoch))\n",
        "errors_test = np.zeros((n_epoch))\n",
        "\n",
        "for epoch in range(n_epoch):\n",
        "  # loop over batches\n",
        "  for i, batch in enumerate(data_loader):\n",
        "    # retrieve inputs and labels for this batch\n",
        "    x_batch, y_batch = batch\n",
        "    # zero the parameter gradients\n",
        "    optimizer.zero_grad()\n",
        "    # forward pass -- calculate model output\n",
        "    pred = model(x_batch)\n",
        "    # compute the loss\n",
        "    loss = loss_function(pred, y_batch)\n",
        "    # backward pass\n",
        "    loss.backward()\n",
        "    # SGD update\n",
        "    optimizer.step()\n",
        "\n",
        "  # Run whole dataset to get statistics -- normally wouldn't do this\n",
        "  pred_train = model(x_train)\n",
        "  pred_test = model(x_test)\n",
        "  _, predicted_train_class = torch.max(pred_train.data, 1)\n",
        "  _, predicted_test_class = torch.max(pred_test.data, 1)\n",
        "  errors_train[epoch] = 100 - 100 * (predicted_train_class == y_train).float().sum() / len(y_train)\n",
        "  errors_test[epoch]= 100 - 100 * (predicted_test_class == y_test).float().sum() / len(y_test)\n",
        "  losses_train[epoch] = loss_function(pred_train, y_train).item()\n",
        "  losses_test[epoch]= loss_function(pred_test, y_test).item()\n",
        "  print(f'Epoch {epoch:5d}, train loss {losses_train[epoch]:.6f}, train error {errors_train[epoch]:3.2f},  test loss {losses_test[epoch]:.6f}, test error {errors_test[epoch]:3.2f}')\n",
        "\n",
        "  # tell scheduler to consider updating learning rate\n",
        "  scheduler.step()"
      ],
      "metadata": {
        "id": "_rX6N3VyyQTY",
        "outputId": "718ee35b-3e81-4cef-e3ec-83fa224d805c",
        "colab": {
          "base_uri": "https://localhost:8080/"
        }
      },
      "execution_count": 7,
      "outputs": [
        {
          "output_type": "stream",
          "name": "stdout",
          "text": [
            "Initialized layer: Linear(in_features=40, out_features=100, bias=True)\n",
            "Initialized layer: Linear(in_features=100, out_features=100, bias=True)\n",
            "Initialized layer: Linear(in_features=100, out_features=10, bias=True)\n",
            "Epoch     0, train loss 1.641843, train error 64.47,  test loss 1.708238, test error 67.60\n",
            "Epoch     1, train loss 1.354131, train error 50.85,  test loss 1.501259, test error 57.90\n",
            "Epoch     2, train loss 1.173501, train error 43.42,  test loss 1.384632, test error 54.50\n",
            "Epoch     3, train loss 1.011190, train error 36.70,  test loss 1.243998, test error 46.70\n",
            "Epoch     4, train loss 0.908695, train error 33.15,  test loss 1.239979, test error 45.80\n",
            "Epoch     5, train loss 0.812348, train error 28.38,  test loss 1.151307, test error 42.80\n",
            "Epoch     6, train loss 0.732006, train error 26.65,  test loss 1.168073, test error 40.90\n",
            "Epoch     7, train loss 0.644119, train error 23.18,  test loss 1.155700, test error 44.10\n",
            "Epoch     8, train loss 0.573251, train error 19.62,  test loss 1.111628, test error 40.50\n",
            "Epoch     9, train loss 0.517426, train error 18.45,  test loss 1.128962, test error 40.10\n",
            "Epoch    10, train loss 0.389779, train error 10.28,  test loss 1.055422, test error 38.00\n",
            "Epoch    11, train loss 0.364201, train error 9.72,  test loss 1.078061, test error 38.60\n",
            "Epoch    12, train loss 0.333645, train error 9.05,  test loss 1.101701, test error 36.60\n",
            "Epoch    13, train loss 0.297088, train error 7.20,  test loss 1.094352, test error 36.60\n",
            "Epoch    14, train loss 0.272029, train error 6.35,  test loss 1.088957, test error 36.30\n",
            "Epoch    15, train loss 0.253744, train error 5.85,  test loss 1.122893, test error 37.50\n",
            "Epoch    16, train loss 0.233902, train error 5.55,  test loss 1.133049, test error 35.40\n",
            "Epoch    17, train loss 0.203885, train error 3.90,  test loss 1.166996, test error 35.70\n",
            "Epoch    18, train loss 0.184335, train error 3.45,  test loss 1.186726, test error 36.20\n",
            "Epoch    19, train loss 0.175497, train error 3.30,  test loss 1.195877, test error 35.70\n",
            "Epoch    20, train loss 0.146144, train error 1.68,  test loss 1.187372, test error 35.00\n",
            "Epoch    21, train loss 0.144553, train error 1.82,  test loss 1.228116, test error 35.90\n",
            "Epoch    22, train loss 0.133594, train error 1.30,  test loss 1.216534, test error 36.10\n",
            "Epoch    23, train loss 0.126945, train error 1.25,  test loss 1.244762, test error 35.00\n",
            "Epoch    24, train loss 0.118150, train error 0.72,  test loss 1.255946, test error 35.20\n",
            "Epoch    25, train loss 0.111646, train error 0.78,  test loss 1.255168, test error 34.50\n",
            "Epoch    26, train loss 0.105374, train error 0.62,  test loss 1.275648, test error 36.00\n",
            "Epoch    27, train loss 0.102943, train error 0.55,  test loss 1.290323, test error 35.10\n",
            "Epoch    28, train loss 0.095923, train error 0.47,  test loss 1.289888, test error 35.00\n",
            "Epoch    29, train loss 0.090709, train error 0.28,  test loss 1.307686, test error 35.10\n",
            "Epoch    30, train loss 0.086639, train error 0.22,  test loss 1.311077, test error 35.40\n",
            "Epoch    31, train loss 0.084334, train error 0.18,  test loss 1.318134, test error 36.10\n",
            "Epoch    32, train loss 0.081618, train error 0.12,  test loss 1.318852, test error 36.10\n",
            "Epoch    33, train loss 0.079730, train error 0.10,  test loss 1.327233, test error 35.30\n",
            "Epoch    34, train loss 0.078241, train error 0.18,  test loss 1.333384, test error 35.60\n",
            "Epoch    35, train loss 0.076076, train error 0.18,  test loss 1.338763, test error 35.00\n",
            "Epoch    36, train loss 0.074284, train error 0.10,  test loss 1.342676, test error 36.00\n",
            "Epoch    37, train loss 0.072505, train error 0.10,  test loss 1.352738, test error 35.60\n",
            "Epoch    38, train loss 0.070727, train error 0.07,  test loss 1.352715, test error 35.40\n",
            "Epoch    39, train loss 0.069637, train error 0.07,  test loss 1.356298, test error 35.80\n",
            "Epoch    40, train loss 0.068121, train error 0.05,  test loss 1.361191, test error 35.40\n",
            "Epoch    41, train loss 0.067326, train error 0.07,  test loss 1.366916, test error 36.00\n",
            "Epoch    42, train loss 0.066653, train error 0.07,  test loss 1.369500, test error 35.40\n",
            "Epoch    43, train loss 0.066028, train error 0.07,  test loss 1.372447, test error 35.80\n",
            "Epoch    44, train loss 0.065158, train error 0.03,  test loss 1.374692, test error 35.60\n",
            "Epoch    45, train loss 0.064530, train error 0.03,  test loss 1.378526, test error 35.80\n",
            "Epoch    46, train loss 0.063751, train error 0.05,  test loss 1.381203, test error 35.50\n",
            "Epoch    47, train loss 0.063166, train error 0.00,  test loss 1.384116, test error 35.90\n",
            "Epoch    48, train loss 0.062569, train error 0.00,  test loss 1.386326, test error 35.40\n",
            "Epoch    49, train loss 0.061803, train error 0.00,  test loss 1.388778, test error 35.50\n",
            "Epoch    50, train loss 0.061411, train error 0.00,  test loss 1.390876, test error 35.60\n",
            "Epoch    51, train loss 0.061086, train error 0.00,  test loss 1.391918, test error 35.60\n",
            "Epoch    52, train loss 0.060776, train error 0.00,  test loss 1.393480, test error 35.60\n",
            "Epoch    53, train loss 0.060438, train error 0.00,  test loss 1.394813, test error 35.70\n",
            "Epoch    54, train loss 0.060140, train error 0.00,  test loss 1.395571, test error 35.70\n",
            "Epoch    55, train loss 0.059831, train error 0.00,  test loss 1.396966, test error 35.80\n",
            "Epoch    56, train loss 0.059554, train error 0.00,  test loss 1.398994, test error 35.80\n",
            "Epoch    57, train loss 0.059227, train error 0.00,  test loss 1.400259, test error 35.80\n",
            "Epoch    58, train loss 0.058951, train error 0.00,  test loss 1.400686, test error 35.60\n",
            "Epoch    59, train loss 0.058614, train error 0.00,  test loss 1.402550, test error 35.90\n",
            "Epoch    60, train loss 0.058458, train error 0.00,  test loss 1.403264, test error 35.90\n",
            "Epoch    61, train loss 0.058311, train error 0.00,  test loss 1.404122, test error 35.90\n",
            "Epoch    62, train loss 0.058162, train error 0.00,  test loss 1.404931, test error 35.90\n",
            "Epoch    63, train loss 0.058012, train error 0.00,  test loss 1.405107, test error 35.80\n",
            "Epoch    64, train loss 0.057870, train error 0.00,  test loss 1.405929, test error 35.80\n",
            "Epoch    65, train loss 0.057728, train error 0.00,  test loss 1.406669, test error 35.70\n",
            "Epoch    66, train loss 0.057584, train error 0.00,  test loss 1.407065, test error 35.90\n",
            "Epoch    67, train loss 0.057437, train error 0.00,  test loss 1.407928, test error 35.80\n",
            "Epoch    68, train loss 0.057291, train error 0.00,  test loss 1.408310, test error 35.80\n",
            "Epoch    69, train loss 0.057149, train error 0.00,  test loss 1.409144, test error 35.80\n",
            "Epoch    70, train loss 0.057074, train error 0.00,  test loss 1.409483, test error 35.80\n",
            "Epoch    71, train loss 0.056999, train error 0.00,  test loss 1.409705, test error 35.80\n",
            "Epoch    72, train loss 0.056928, train error 0.00,  test loss 1.410272, test error 35.80\n",
            "Epoch    73, train loss 0.056858, train error 0.00,  test loss 1.410381, test error 35.90\n",
            "Epoch    74, train loss 0.056787, train error 0.00,  test loss 1.411152, test error 35.80\n",
            "Epoch    75, train loss 0.056718, train error 0.00,  test loss 1.411013, test error 35.80\n",
            "Epoch    76, train loss 0.056646, train error 0.00,  test loss 1.411486, test error 35.80\n",
            "Epoch    77, train loss 0.056576, train error 0.00,  test loss 1.411721, test error 35.80\n",
            "Epoch    78, train loss 0.056508, train error 0.00,  test loss 1.412423, test error 35.80\n",
            "Epoch    79, train loss 0.056438, train error 0.00,  test loss 1.412511, test error 35.80\n",
            "Epoch    80, train loss 0.056401, train error 0.00,  test loss 1.412728, test error 35.90\n",
            "Epoch    81, train loss 0.056365, train error 0.00,  test loss 1.412907, test error 35.90\n",
            "Epoch    82, train loss 0.056331, train error 0.00,  test loss 1.413083, test error 35.90\n",
            "Epoch    83, train loss 0.056296, train error 0.00,  test loss 1.413167, test error 35.80\n",
            "Epoch    84, train loss 0.056261, train error 0.00,  test loss 1.413380, test error 35.80\n",
            "Epoch    85, train loss 0.056227, train error 0.00,  test loss 1.413428, test error 35.80\n",
            "Epoch    86, train loss 0.056193, train error 0.00,  test loss 1.413720, test error 35.80\n",
            "Epoch    87, train loss 0.056158, train error 0.00,  test loss 1.413837, test error 35.90\n",
            "Epoch    88, train loss 0.056123, train error 0.00,  test loss 1.413926, test error 35.90\n",
            "Epoch    89, train loss 0.056089, train error 0.00,  test loss 1.414167, test error 35.90\n"
          ]
        }
      ]
    },
    {
      "cell_type": "code",
      "source": [
        "# Plot the results\n",
        "fig, ax = plt.subplots()\n",
        "ax.plot(errors_train,'r-',label='train')\n",
        "ax.plot(errors_test,'b-',label='test')\n",
        "ax.set_ylim(0,100); ax.set_xlim(0,n_epoch)\n",
        "ax.set_xlabel('Epoch'); ax.set_ylabel('Error')\n",
        "ax.set_title('TrainError %3.2f, Test Error %3.2f'%(errors_train[-1],errors_test[-1]))\n",
        "ax.legend()\n",
        "plt.show()\n",
        "\n",
        "# Plot the results\n",
        "fig, ax = plt.subplots()\n",
        "ax.plot(losses_train,'r-',label='train')\n",
        "ax.plot(losses_test,'b-',label='test')\n",
        "ax.set_xlim(0,n_epoch)\n",
        "ax.set_xlabel('Epoch'); ax.set_ylabel('Loss')\n",
        "ax.set_title('Train loss %3.2f, Test loss %3.2f'%(losses_train[-1],losses_test[-1]))\n",
        "ax.legend()\n",
        "plt.show()"
      ],
      "metadata": {
        "id": "yI-l6kA_EH9G",
        "outputId": "7aa0001e-2021-405c-fc81-77f72823601c",
        "colab": {
          "base_uri": "https://localhost:8080/",
          "height": 927
        }
      },
      "execution_count": 8,
      "outputs": [
        {
          "output_type": "display_data",
          "data": {
            "text/plain": [
              "<Figure size 640x480 with 1 Axes>"
            ],
            "image/png": "[encoded data removed]"
          },
          "metadata": {}
        },
        {
          "output_type": "display_data",
          "data": {
            "text/plain": [
              "<Figure size 640x480 with 1 Axes>"
            ],
            "image/png": "[encoded data removed]"
          },
          "metadata": {}
        }
      ]
    },
    {
      "cell_type": "markdown",
      "source": [
        "**TO DO**\n",
        "\n",
        "Play with the model -- try changing the number of layers, hidden units, learning rate, batch size, momentum or anything else you like.  See if you can improve the test results.\n",
        "\n",
        "Is it a good idea to optimize the hyperparameters in this way?  Will the final result be a good estimate of the true test performance?"
      ],
      "metadata": {
        "id": "q-yT6re6GZS4"
      }
    }
  ]
}