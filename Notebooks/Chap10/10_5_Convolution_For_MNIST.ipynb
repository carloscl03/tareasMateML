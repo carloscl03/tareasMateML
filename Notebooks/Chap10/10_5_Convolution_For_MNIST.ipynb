{
  "nbformat": 4,
  "nbformat_minor": 0,
  "metadata": {
    "colab": {
      "provenance": [],
      "include_colab_link": true
    },
    "kernelspec": {
      "name": "python3",
      "display_name": "Python 3"
    },
    "language_info": {
      "name": "python"
    }
  },
  "cells": [
    {
      "cell_type": "markdown",
      "metadata": {
        "id": "view-in-github",
        "colab_type": "text"
      },
      "source": [
        "<a href=\"https://colab.research.google.com/github/carloscl03/tareasMateML/blob/main/Notebooks/Chap10/10_5_Convolution_For_MNIST.ipynb\" target=\"_parent\"><img src=\"https://colab.research.google.com/assets/colab-badge.svg\" alt=\"Open In Colab\"/></a>"
      ]
    },
    {
      "cell_type": "markdown",
      "source": [
        "# **Notebook 10.5: Convolution for MNIST**\n",
        "\n",
        "This notebook builds a proper network for 2D convolution.  It works with the MNIST dataset (figure 15.15a), which was the original classic dataset for classifying images.  The network will take a 28x28 grayscale image and classify it into one of 10 classes representing a digit.\n",
        "\n",
        "The code is adapted from https://nextjournal.com/gkoehler/pytorch-mnist\n",
        "\n",
        "Work through the cells below, running each cell in turn. In various places you will see the words \"TO DO\". Follow the instructions at these places and make predictions about what is going to happen or write code to complete the functions.\n",
        "\n",
        "Contact me at udlbookmail@gmail.com if you find any mistakes or have any suggestions.\n"
      ],
      "metadata": {
        "id": "t9vk9Elugvmi"
      }
    },
    {
      "cell_type": "code",
      "source": [
        "import torch\n",
        "import torchvision\n",
        "import torch.nn as nn\n",
        "import torch.nn.functional as F\n",
        "import torch.optim as optim\n",
        "import matplotlib.pyplot as plt\n",
        "import random"
      ],
      "metadata": {
        "id": "YrXWAH7sUWvU"
      },
      "execution_count": 1,
      "outputs": []
    },
    {
      "cell_type": "code",
      "source": [
        "# Run this once to load the train and test data straight into a dataloader class\n",
        "# that will provide the batches\n",
        "batch_size_train = 64\n",
        "batch_size_test = 1000\n",
        "train_loader = torch.utils.data.DataLoader(\n",
        "  torchvision.datasets.MNIST('/files/', train=True, download=True,\n",
        "                             transform=torchvision.transforms.Compose([\n",
        "                               torchvision.transforms.ToTensor(),\n",
        "                               torchvision.transforms.Normalize(\n",
        "                                 (0.1307,), (0.3081,))\n",
        "                             ])),\n",
        "  batch_size=batch_size_train, shuffle=True)\n",
        "\n",
        "test_loader = torch.utils.data.DataLoader(\n",
        "  torchvision.datasets.MNIST('/files/', train=False, download=True,\n",
        "                             transform=torchvision.transforms.Compose([\n",
        "                               torchvision.transforms.ToTensor(),\n",
        "                               torchvision.transforms.Normalize(\n",
        "                                 (0.1307,), (0.3081,))\n",
        "                             ])),\n",
        "  batch_size=batch_size_test, shuffle=True)"
      ],
      "metadata": {
        "id": "wScBGXXFVadm",
        "outputId": "d33d0ede-f31e-4294-8f9d-b5f4785ed52a",
        "colab": {
          "base_uri": "https://localhost:8080/"
        }
      },
      "execution_count": 2,
      "outputs": [
        {
          "output_type": "stream",
          "name": "stdout",
          "text": [
            "Downloading http://yann.lecun.com/exdb/mnist/train-images-idx3-ubyte.gz\n",
            "Failed to download (trying next):\n",
            "HTTP Error 403: Forbidden\n",
            "\n",
            "Downloading https://ossci-datasets.s3.amazonaws.com/mnist/train-images-idx3-ubyte.gz\n",
            "Downloading https://ossci-datasets.s3.amazonaws.com/mnist/train-images-idx3-ubyte.gz to /files/MNIST/raw/train-images-idx3-ubyte.gz\n"
          ]
        },
        {
          "output_type": "stream",
          "name": "stderr",
          "text": [
            "100%|██████████| 9912422/9912422 [00:00<00:00, 22891240.11it/s]\n"
          ]
        },
        {
          "output_type": "stream",
          "name": "stdout",
          "text": [
            "Extracting /files/MNIST/raw/train-images-idx3-ubyte.gz to /files/MNIST/raw\n",
            "\n",
            "Downloading http://yann.lecun.com/exdb/mnist/train-labels-idx1-ubyte.gz\n",
            "Failed to download (trying next):\n",
            "HTTP Error 403: Forbidden\n",
            "\n",
            "Downloading https://ossci-datasets.s3.amazonaws.com/mnist/train-labels-idx1-ubyte.gz\n",
            "Downloading https://ossci-datasets.s3.amazonaws.com/mnist/train-labels-idx1-ubyte.gz to /files/MNIST/raw/train-labels-idx1-ubyte.gz\n"
          ]
        },
        {
          "output_type": "stream",
          "name": "stderr",
          "text": [
            "100%|██████████| 28881/28881 [00:00<00:00, 1468916.81it/s]\n"
          ]
        },
        {
          "output_type": "stream",
          "name": "stdout",
          "text": [
            "Extracting /files/MNIST/raw/train-labels-idx1-ubyte.gz to /files/MNIST/raw\n",
            "\n",
            "Downloading http://yann.lecun.com/exdb/mnist/t10k-images-idx3-ubyte.gz\n",
            "Failed to download (trying next):\n",
            "HTTP Error 403: Forbidden\n",
            "\n",
            "Downloading https://ossci-datasets.s3.amazonaws.com/mnist/t10k-images-idx3-ubyte.gz\n",
            "Downloading https://ossci-datasets.s3.amazonaws.com/mnist/t10k-images-idx3-ubyte.gz to /files/MNIST/raw/t10k-images-idx3-ubyte.gz\n"
          ]
        },
        {
          "output_type": "stream",
          "name": "stderr",
          "text": [
            "100%|██████████| 1648877/1648877 [00:00<00:00, 8572714.14it/s]\n"
          ]
        },
        {
          "output_type": "stream",
          "name": "stdout",
          "text": [
            "Extracting /files/MNIST/raw/t10k-images-idx3-ubyte.gz to /files/MNIST/raw\n",
            "\n",
            "Downloading http://yann.lecun.com/exdb/mnist/t10k-labels-idx1-ubyte.gz\n",
            "Failed to download (trying next):\n",
            "HTTP Error 403: Forbidden\n",
            "\n",
            "Downloading https://ossci-datasets.s3.amazonaws.com/mnist/t10k-labels-idx1-ubyte.gz\n",
            "Downloading https://ossci-datasets.s3.amazonaws.com/mnist/t10k-labels-idx1-ubyte.gz to /files/MNIST/raw/t10k-labels-idx1-ubyte.gz\n"
          ]
        },
        {
          "output_type": "stream",
          "name": "stderr",
          "text": [
            "100%|██████████| 4542/4542 [00:00<00:00, 8351831.99it/s]"
          ]
        },
        {
          "output_type": "stream",
          "name": "stdout",
          "text": [
            "Extracting /files/MNIST/raw/t10k-labels-idx1-ubyte.gz to /files/MNIST/raw\n",
            "\n"
          ]
        },
        {
          "output_type": "stream",
          "name": "stderr",
          "text": [
            "\n"
          ]
        }
      ]
    },
    {
      "cell_type": "code",
      "source": [
        "# Let's draw some of the training data\n",
        "examples = enumerate(test_loader)\n",
        "batch_idx, (example_data, example_targets) = next(examples)\n",
        "\n",
        "fig = plt.figure()\n",
        "for i in range(6):\n",
        "  plt.subplot(2,3,i+1)\n",
        "  plt.tight_layout()\n",
        "  plt.imshow(example_data[i][0], cmap='gray', interpolation='none')\n",
        "  plt.title(\"Ground Truth: {}\".format(example_targets[i]))\n",
        "  plt.xticks([])\n",
        "  plt.yticks([])\n",
        "plt.show()"
      ],
      "metadata": {
        "id": "8bKADvLHbiV5",
        "outputId": "d0cfd98d-7744-4611-907a-aa6565109f5d",
        "colab": {
          "base_uri": "https://localhost:8080/",
          "height": 438
        }
      },
      "execution_count": 3,
      "outputs": [
        {
          "output_type": "display_data",
          "data": {
            "text/plain": [
              "<Figure size 640x480 with 6 Axes>"
            ],
            "image/png": "[encoded data removed]"
          },
          "metadata": {}
        }
      ]
    },
    {
      "cell_type": "markdown",
      "source": [
        "Define the network.  This is a more typical way to define a network than the sequential structure.  We define a class for the network, and define the parameters in the constructor.  Then we use a function called forward to actually run the network.  It's easy to see how you might use residual connections in this format."
      ],
      "metadata": {
        "id": "_sFvRDGrl4qe"
      }
    },
    {
      "cell_type": "code",
      "source": [
        "from os import X_OK\n",
        "# TODO Change this class to implement\n",
        "# 1. A valid convolution with kernel size 5, 1 input channel and 10 output channels\n",
        "# 2. A max pooling operation over a 2x2 area\n",
        "# 3. A Relu\n",
        "# 4. A valid convolution with kernel size 5, 10 input channels and 20 output channels\n",
        "# 5. A 2D Dropout layer\n",
        "# 6. A max pooling operation over a 2x2 area\n",
        "# 7. A relu\n",
        "# 8. A flattening operation\n",
        "# 9. A fully connected layer mapping from (whatever dimensions we are at-- find out using .shape) to 50\n",
        "# 10. A ReLU\n",
        "# 11. A fully connected layer mapping from 50 to 10 dimensions\n",
        "# 12. A softmax function.\n",
        "\n",
        "# Replace this class which implements a minimal network (which still does okay)\n",
        "class Net(nn.Module):\n",
        "    def __init__(self):\n",
        "        super(Net, self).__init__()\n",
        "        self.conv1 = nn.Conv2d(1, 10, kernel_size=5)\n",
        "        self.pool = nn.MaxPool2d(2, 2)\n",
        "        self.conv2 = nn.Conv2d(10, 20, kernel_size=5)\n",
        "        self.dropout = nn.Dropout2d()\n",
        "        self.fc1 = nn.Linear(320, 50)\n",
        "        self.fc2 = nn.Linear(50, 10)\n",
        "        # Initialize weights using He initialization\n",
        "        self.apply(weights_init)\n",
        "\n",
        "    def forward(self, x):\n",
        "        x = F.relu(self.conv1(x))\n",
        "        x = self.pool(x)\n",
        "        x = F.relu(self.conv2(x))\n",
        "        x = self.pool(x)\n",
        "        x = self.dropout(x)\n",
        "        x = x.view(-1, 320)\n",
        "        x = F.relu(self.fc1(x))\n",
        "        x = self.fc2(x)\n",
        "        return F.log_softmax(x, dim=1)\n",
        "\n",
        "\n",
        "\n"
      ],
      "metadata": {
        "id": "EQkvw2KOPVl7"
      },
      "execution_count": 14,
      "outputs": []
    },
    {
      "cell_type": "code",
      "source": [
        "# He initialization of weights\n",
        "def weights_init(layer_in):\n",
        "  if isinstance(layer_in, nn.Linear):\n",
        "    nn.init.kaiming_uniform_(layer_in.weight)\n",
        "    layer_in.bias.data.fill_(0.0)"
      ],
      "metadata": {
        "id": "qWZtkCZcU_dg"
      },
      "execution_count": 15,
      "outputs": []
    },
    {
      "cell_type": "code",
      "source": [
        "# Create network\n",
        "model = Net()\n",
        "# Initialize model weights\n",
        "model.apply(weights_init)\n",
        "# Define optimizer\n",
        "optimizer = optim.SGD(model.parameters(), lr=0.01, momentum=0.5)"
      ],
      "metadata": {
        "id": "FslroPJJffrh"
      },
      "execution_count": 16,
      "outputs": []
    },
    {
      "cell_type": "code",
      "source": [
        "# Main training routine\n",
        "def train(epoch):\n",
        "  model.train()\n",
        "  # Get each\n",
        "  for batch_idx, (data, target) in enumerate(train_loader):\n",
        "    optimizer.zero_grad()\n",
        "    output = model(data)\n",
        "    loss = F.nll_loss(output, target)\n",
        "    loss.backward()\n",
        "    optimizer.step()\n",
        "    # Store results\n",
        "    if batch_idx % 10 == 0:\n",
        "      print('Train Epoch: {} [{}/{}]\\tLoss: {:.6f}'.format(\n",
        "        epoch, batch_idx * len(data), len(train_loader.dataset), loss.item()))"
      ],
      "metadata": {
        "id": "xKQd9PzkQ766"
      },
      "execution_count": 17,
      "outputs": []
    },
    {
      "cell_type": "code",
      "source": [
        "# Run on test data\n",
        "def test():\n",
        "  model.eval()\n",
        "  test_loss = 0\n",
        "  correct = 0\n",
        "  with torch.no_grad():\n",
        "    for data, target in test_loader:\n",
        "      output = model(data)\n",
        "      test_loss += F.nll_loss(output, target, size_average=False).item()\n",
        "      pred = output.data.max(1, keepdim=True)[1]\n",
        "      correct += pred.eq(target.data.view_as(pred)).sum()\n",
        "  test_loss /= len(test_loader.dataset)\n",
        "  print('\\nTest set: Avg. loss: {:.4f}, Accuracy: {}/{} ({:.0f}%)\\n'.format(\n",
        "    test_loss, correct, len(test_loader.dataset),\n",
        "    100. * correct / len(test_loader.dataset)))"
      ],
      "metadata": {
        "id": "Byn-f7qWRLxX"
      },
      "execution_count": 18,
      "outputs": []
    },
    {
      "cell_type": "code",
      "source": [
        "# Get initial performance\n",
        "test()\n",
        "# Train for three epochs\n",
        "n_epochs = 3\n",
        "for epoch in range(1, n_epochs + 1):\n",
        "  train(epoch)\n",
        "  test()"
      ],
      "metadata": {
        "id": "YgLaex1pfhqz",
        "outputId": "035d9dae-486f-4943-beee-879f4108b457",
        "colab": {
          "base_uri": "https://localhost:8080/"
        }
      },
      "execution_count": 19,
      "outputs": [
        {
          "output_type": "stream",
          "name": "stderr",
          "text": [
            "/usr/local/lib/python3.10/dist-packages/torch/nn/_reduction.py:42: UserWarning: size_average and reduce args will be deprecated, please use reduction='sum' instead.\n",
            "  warnings.warn(warning.format(ret))\n"
          ]
        },
        {
          "output_type": "stream",
          "name": "stdout",
          "text": [
            "\n",
            "Test set: Avg. loss: 2.4031, Accuracy: 972/10000 (10%)\n",
            "\n",
            "Train Epoch: 1 [0/60000]\tLoss: 2.569388\n",
            "Train Epoch: 1 [640/60000]\tLoss: 2.228026\n",
            "Train Epoch: 1 [1280/60000]\tLoss: 1.983351\n",
            "Train Epoch: 1 [1920/60000]\tLoss: 2.073043\n",
            "Train Epoch: 1 [2560/60000]\tLoss: 1.748789\n",
            "Train Epoch: 1 [3200/60000]\tLoss: 1.475191\n",
            "Train Epoch: 1 [3840/60000]\tLoss: 1.188364\n",
            "Train Epoch: 1 [4480/60000]\tLoss: 1.298962\n",
            "Train Epoch: 1 [5120/60000]\tLoss: 0.965924\n",
            "Train Epoch: 1 [5760/60000]\tLoss: 0.737230\n",
            "Train Epoch: 1 [6400/60000]\tLoss: 0.695113\n",
            "Train Epoch: 1 [7040/60000]\tLoss: 1.090654\n",
            "Train Epoch: 1 [7680/60000]\tLoss: 0.659400\n",
            "Train Epoch: 1 [8320/60000]\tLoss: 0.755521\n",
            "Train Epoch: 1 [8960/60000]\tLoss: 1.017529\n",
            "Train Epoch: 1 [9600/60000]\tLoss: 0.571743\n",
            "Train Epoch: 1 [10240/60000]\tLoss: 0.884790\n",
            "Train Epoch: 1 [10880/60000]\tLoss: 0.652361\n",
            "Train Epoch: 1 [11520/60000]\tLoss: 0.756383\n",
            "Train Epoch: 1 [12160/60000]\tLoss: 0.468251\n",
            "Train Epoch: 1 [12800/60000]\tLoss: 0.578040\n",
            "Train Epoch: 1 [13440/60000]\tLoss: 0.593189\n",
            "Train Epoch: 1 [14080/60000]\tLoss: 0.495807\n",
            "Train Epoch: 1 [14720/60000]\tLoss: 0.373699\n",
            "Train Epoch: 1 [15360/60000]\tLoss: 0.404668\n",
            "Train Epoch: 1 [16000/60000]\tLoss: 0.505544\n",
            "Train Epoch: 1 [16640/60000]\tLoss: 0.485631\n",
            "Train Epoch: 1 [17280/60000]\tLoss: 0.291336\n",
            "Train Epoch: 1 [17920/60000]\tLoss: 0.370304\n",
            "Train Epoch: 1 [18560/60000]\tLoss: 0.360843\n",
            "Train Epoch: 1 [19200/60000]\tLoss: 0.509051\n",
            "Train Epoch: 1 [19840/60000]\tLoss: 0.549317\n",
            "Train Epoch: 1 [20480/60000]\tLoss: 0.382938\n",
            "Train Epoch: 1 [21120/60000]\tLoss: 0.399456\n",
            "Train Epoch: 1 [21760/60000]\tLoss: 0.566932\n",
            "Train Epoch: 1 [22400/60000]\tLoss: 0.353006\n",
            "Train Epoch: 1 [23040/60000]\tLoss: 0.576609\n",
            "Train Epoch: 1 [23680/60000]\tLoss: 0.458173\n",
            "Train Epoch: 1 [24320/60000]\tLoss: 0.349899\n",
            "Train Epoch: 1 [24960/60000]\tLoss: 0.430114\n",
            "Train Epoch: 1 [25600/60000]\tLoss: 0.656299\n",
            "Train Epoch: 1 [26240/60000]\tLoss: 0.646311\n",
            "Train Epoch: 1 [26880/60000]\tLoss: 0.333617\n",
            "Train Epoch: 1 [27520/60000]\tLoss: 0.392995\n",
            "Train Epoch: 1 [28160/60000]\tLoss: 0.421794\n",
            "Train Epoch: 1 [28800/60000]\tLoss: 0.256853\n",
            "Train Epoch: 1 [29440/60000]\tLoss: 0.322936\n",
            "Train Epoch: 1 [30080/60000]\tLoss: 0.225925\n",
            "Train Epoch: 1 [30720/60000]\tLoss: 0.104152\n",
            "Train Epoch: 1 [31360/60000]\tLoss: 0.228160\n",
            "Train Epoch: 1 [32000/60000]\tLoss: 0.359530\n",
            "Train Epoch: 1 [32640/60000]\tLoss: 0.575847\n",
            "Train Epoch: 1 [33280/60000]\tLoss: 0.516643\n",
            "Train Epoch: 1 [33920/60000]\tLoss: 0.443425\n",
            "Train Epoch: 1 [34560/60000]\tLoss: 0.316245\n",
            "Train Epoch: 1 [35200/60000]\tLoss: 0.248185\n",
            "Train Epoch: 1 [35840/60000]\tLoss: 0.279465\n",
            "Train Epoch: 1 [36480/60000]\tLoss: 0.374021\n",
            "Train Epoch: 1 [37120/60000]\tLoss: 0.246970\n",
            "Train Epoch: 1 [37760/60000]\tLoss: 0.341824\n",
            "Train Epoch: 1 [38400/60000]\tLoss: 0.085477\n",
            "Train Epoch: 1 [39040/60000]\tLoss: 0.238735\n",
            "Train Epoch: 1 [39680/60000]\tLoss: 0.341308\n",
            "Train Epoch: 1 [40320/60000]\tLoss: 0.114679\n",
            "Train Epoch: 1 [40960/60000]\tLoss: 0.360452\n",
            "Train Epoch: 1 [41600/60000]\tLoss: 0.505889\n",
            "Train Epoch: 1 [42240/60000]\tLoss: 0.266384\n",
            "Train Epoch: 1 [42880/60000]\tLoss: 0.299746\n",
            "Train Epoch: 1 [43520/60000]\tLoss: 0.220125\n",
            "Train Epoch: 1 [44160/60000]\tLoss: 0.173204\n",
            "Train Epoch: 1 [44800/60000]\tLoss: 0.222646\n",
            "Train Epoch: 1 [45440/60000]\tLoss: 0.230071\n",
            "Train Epoch: 1 [46080/60000]\tLoss: 0.236836\n",
            "Train Epoch: 1 [46720/60000]\tLoss: 0.231779\n",
            "Train Epoch: 1 [47360/60000]\tLoss: 0.286548\n",
            "Train Epoch: 1 [48000/60000]\tLoss: 0.153544\n",
            "Train Epoch: 1 [48640/60000]\tLoss: 0.414832\n",
            "Train Epoch: 1 [49280/60000]\tLoss: 0.240162\n",
            "Train Epoch: 1 [49920/60000]\tLoss: 0.320588\n",
            "Train Epoch: 1 [50560/60000]\tLoss: 0.211825\n",
            "Train Epoch: 1 [51200/60000]\tLoss: 0.221367\n",
            "Train Epoch: 1 [51840/60000]\tLoss: 0.288131\n",
            "Train Epoch: 1 [52480/60000]\tLoss: 0.206135\n",
            "Train Epoch: 1 [53120/60000]\tLoss: 0.267281\n",
            "Train Epoch: 1 [53760/60000]\tLoss: 0.193101\n",
            "Train Epoch: 1 [54400/60000]\tLoss: 0.191636\n",
            "Train Epoch: 1 [55040/60000]\tLoss: 0.091263\n",
            "Train Epoch: 1 [55680/60000]\tLoss: 0.179185\n",
            "Train Epoch: 1 [56320/60000]\tLoss: 0.222619\n",
            "Train Epoch: 1 [56960/60000]\tLoss: 0.224559\n",
            "Train Epoch: 1 [57600/60000]\tLoss: 0.221129\n",
            "Train Epoch: 1 [58240/60000]\tLoss: 0.186866\n",
            "Train Epoch: 1 [58880/60000]\tLoss: 0.150467\n",
            "Train Epoch: 1 [59520/60000]\tLoss: 0.167352\n",
            "\n",
            "Test set: Avg. loss: 0.1203, Accuracy: 9624/10000 (96%)\n",
            "\n",
            "Train Epoch: 2 [0/60000]\tLoss: 0.273911\n",
            "Train Epoch: 2 [640/60000]\tLoss: 0.181174\n",
            "Train Epoch: 2 [1280/60000]\tLoss: 0.181531\n",
            "Train Epoch: 2 [1920/60000]\tLoss: 0.282040\n",
            "Train Epoch: 2 [2560/60000]\tLoss: 0.120630\n",
            "Train Epoch: 2 [3200/60000]\tLoss: 0.241003\n",
            "Train Epoch: 2 [3840/60000]\tLoss: 0.345774\n",
            "Train Epoch: 2 [4480/60000]\tLoss: 0.191799\n",
            "Train Epoch: 2 [5120/60000]\tLoss: 0.316874\n",
            "Train Epoch: 2 [5760/60000]\tLoss: 0.258134\n",
            "Train Epoch: 2 [6400/60000]\tLoss: 0.306308\n",
            "Train Epoch: 2 [7040/60000]\tLoss: 0.180371\n",
            "Train Epoch: 2 [7680/60000]\tLoss: 0.438473\n",
            "Train Epoch: 2 [8320/60000]\tLoss: 0.108585\n",
            "Train Epoch: 2 [8960/60000]\tLoss: 0.135997\n",
            "Train Epoch: 2 [9600/60000]\tLoss: 0.417462\n",
            "Train Epoch: 2 [10240/60000]\tLoss: 0.202291\n",
            "Train Epoch: 2 [10880/60000]\tLoss: 0.206419\n",
            "Train Epoch: 2 [11520/60000]\tLoss: 0.212929\n",
            "Train Epoch: 2 [12160/60000]\tLoss: 0.209402\n",
            "Train Epoch: 2 [12800/60000]\tLoss: 0.200585\n",
            "Train Epoch: 2 [13440/60000]\tLoss: 0.074351\n",
            "Train Epoch: 2 [14080/60000]\tLoss: 0.221502\n",
            "Train Epoch: 2 [14720/60000]\tLoss: 0.109148\n",
            "Train Epoch: 2 [15360/60000]\tLoss: 0.192070\n",
            "Train Epoch: 2 [16000/60000]\tLoss: 0.261080\n",
            "Train Epoch: 2 [16640/60000]\tLoss: 0.219926\n",
            "Train Epoch: 2 [17280/60000]\tLoss: 0.219397\n",
            "Train Epoch: 2 [17920/60000]\tLoss: 0.121819\n",
            "Train Epoch: 2 [18560/60000]\tLoss: 0.237629\n",
            "Train Epoch: 2 [19200/60000]\tLoss: 0.177339\n",
            "Train Epoch: 2 [19840/60000]\tLoss: 0.098118\n",
            "Train Epoch: 2 [20480/60000]\tLoss: 0.137792\n",
            "Train Epoch: 2 [21120/60000]\tLoss: 0.168087\n",
            "Train Epoch: 2 [21760/60000]\tLoss: 0.145335\n",
            "Train Epoch: 2 [22400/60000]\tLoss: 0.213433\n",
            "Train Epoch: 2 [23040/60000]\tLoss: 0.182051\n",
            "Train Epoch: 2 [23680/60000]\tLoss: 0.138561\n",
            "Train Epoch: 2 [24320/60000]\tLoss: 0.204345\n",
            "Train Epoch: 2 [24960/60000]\tLoss: 0.220424\n",
            "Train Epoch: 2 [25600/60000]\tLoss: 0.137686\n",
            "Train Epoch: 2 [26240/60000]\tLoss: 0.313835\n",
            "Train Epoch: 2 [26880/60000]\tLoss: 0.126281\n",
            "Train Epoch: 2 [27520/60000]\tLoss: 0.247905\n",
            "Train Epoch: 2 [28160/60000]\tLoss: 0.500011\n",
            "Train Epoch: 2 [28800/60000]\tLoss: 0.104086\n",
            "Train Epoch: 2 [29440/60000]\tLoss: 0.129278\n",
            "Train Epoch: 2 [30080/60000]\tLoss: 0.086412\n",
            "Train Epoch: 2 [30720/60000]\tLoss: 0.174774\n",
            "Train Epoch: 2 [31360/60000]\tLoss: 0.218598\n",
            "Train Epoch: 2 [32000/60000]\tLoss: 0.224114\n",
            "Train Epoch: 2 [32640/60000]\tLoss: 0.259519\n",
            "Train Epoch: 2 [33280/60000]\tLoss: 0.057348\n",
            "Train Epoch: 2 [33920/60000]\tLoss: 0.256068\n",
            "Train Epoch: 2 [34560/60000]\tLoss: 0.138440\n",
            "Train Epoch: 2 [35200/60000]\tLoss: 0.058577\n",
            "Train Epoch: 2 [35840/60000]\tLoss: 0.176947\n",
            "Train Epoch: 2 [36480/60000]\tLoss: 0.260406\n",
            "Train Epoch: 2 [37120/60000]\tLoss: 0.148244\n",
            "Train Epoch: 2 [37760/60000]\tLoss: 0.101691\n",
            "Train Epoch: 2 [38400/60000]\tLoss: 0.167920\n",
            "Train Epoch: 2 [39040/60000]\tLoss: 0.196033\n",
            "Train Epoch: 2 [39680/60000]\tLoss: 0.148003\n",
            "Train Epoch: 2 [40320/60000]\tLoss: 0.036837\n",
            "Train Epoch: 2 [40960/60000]\tLoss: 0.081438\n",
            "Train Epoch: 2 [41600/60000]\tLoss: 0.190093\n",
            "Train Epoch: 2 [42240/60000]\tLoss: 0.247270\n",
            "Train Epoch: 2 [42880/60000]\tLoss: 0.137551\n",
            "Train Epoch: 2 [43520/60000]\tLoss: 0.220154\n",
            "Train Epoch: 2 [44160/60000]\tLoss: 0.246096\n",
            "Train Epoch: 2 [44800/60000]\tLoss: 0.253072\n",
            "Train Epoch: 2 [45440/60000]\tLoss: 0.159705\n",
            "Train Epoch: 2 [46080/60000]\tLoss: 0.085069\n",
            "Train Epoch: 2 [46720/60000]\tLoss: 0.240936\n",
            "Train Epoch: 2 [47360/60000]\tLoss: 0.119065\n",
            "Train Epoch: 2 [48000/60000]\tLoss: 0.272849\n",
            "Train Epoch: 2 [48640/60000]\tLoss: 0.119849\n",
            "Train Epoch: 2 [49280/60000]\tLoss: 0.195249\n",
            "Train Epoch: 2 [49920/60000]\tLoss: 0.145000\n",
            "Train Epoch: 2 [50560/60000]\tLoss: 0.086211\n",
            "Train Epoch: 2 [51200/60000]\tLoss: 0.371805\n",
            "Train Epoch: 2 [51840/60000]\tLoss: 0.076227\n",
            "Train Epoch: 2 [52480/60000]\tLoss: 0.241640\n",
            "Train Epoch: 2 [53120/60000]\tLoss: 0.217976\n",
            "Train Epoch: 2 [53760/60000]\tLoss: 0.193396\n",
            "Train Epoch: 2 [54400/60000]\tLoss: 0.113222\n",
            "Train Epoch: 2 [55040/60000]\tLoss: 0.128410\n",
            "Train Epoch: 2 [55680/60000]\tLoss: 0.124843\n",
            "Train Epoch: 2 [56320/60000]\tLoss: 0.159465\n",
            "Train Epoch: 2 [56960/60000]\tLoss: 0.246767\n",
            "Train Epoch: 2 [57600/60000]\tLoss: 0.111012\n",
            "Train Epoch: 2 [58240/60000]\tLoss: 0.119060\n",
            "Train Epoch: 2 [58880/60000]\tLoss: 0.141827\n",
            "Train Epoch: 2 [59520/60000]\tLoss: 0.101590\n",
            "\n",
            "Test set: Avg. loss: 0.0825, Accuracy: 9739/10000 (97%)\n",
            "\n",
            "Train Epoch: 3 [0/60000]\tLoss: 0.174834\n",
            "Train Epoch: 3 [640/60000]\tLoss: 0.326249\n",
            "Train Epoch: 3 [1280/60000]\tLoss: 0.316629\n",
            "Train Epoch: 3 [1920/60000]\tLoss: 0.105331\n",
            "Train Epoch: 3 [2560/60000]\tLoss: 0.091518\n",
            "Train Epoch: 3 [3200/60000]\tLoss: 0.165628\n",
            "Train Epoch: 3 [3840/60000]\tLoss: 0.172253\n",
            "Train Epoch: 3 [4480/60000]\tLoss: 0.039196\n",
            "Train Epoch: 3 [5120/60000]\tLoss: 0.046124\n",
            "Train Epoch: 3 [5760/60000]\tLoss: 0.149709\n",
            "Train Epoch: 3 [6400/60000]\tLoss: 0.214659\n",
            "Train Epoch: 3 [7040/60000]\tLoss: 0.215223\n",
            "Train Epoch: 3 [7680/60000]\tLoss: 0.143353\n",
            "Train Epoch: 3 [8320/60000]\tLoss: 0.162187\n",
            "Train Epoch: 3 [8960/60000]\tLoss: 0.158691\n",
            "Train Epoch: 3 [9600/60000]\tLoss: 0.196524\n",
            "Train Epoch: 3 [10240/60000]\tLoss: 0.261908\n",
            "Train Epoch: 3 [10880/60000]\tLoss: 0.076629\n",
            "Train Epoch: 3 [11520/60000]\tLoss: 0.151430\n",
            "Train Epoch: 3 [12160/60000]\tLoss: 0.233981\n",
            "Train Epoch: 3 [12800/60000]\tLoss: 0.102916\n",
            "Train Epoch: 3 [13440/60000]\tLoss: 0.263425\n",
            "Train Epoch: 3 [14080/60000]\tLoss: 0.079522\n",
            "Train Epoch: 3 [14720/60000]\tLoss: 0.145954\n",
            "Train Epoch: 3 [15360/60000]\tLoss: 0.149568\n",
            "Train Epoch: 3 [16000/60000]\tLoss: 0.094007\n",
            "Train Epoch: 3 [16640/60000]\tLoss: 0.130895\n",
            "Train Epoch: 3 [17280/60000]\tLoss: 0.074620\n",
            "Train Epoch: 3 [17920/60000]\tLoss: 0.083893\n",
            "Train Epoch: 3 [18560/60000]\tLoss: 0.155747\n",
            "Train Epoch: 3 [19200/60000]\tLoss: 0.063945\n",
            "Train Epoch: 3 [19840/60000]\tLoss: 0.129163\n",
            "Train Epoch: 3 [20480/60000]\tLoss: 0.249007\n",
            "Train Epoch: 3 [21120/60000]\tLoss: 0.269338\n",
            "Train Epoch: 3 [21760/60000]\tLoss: 0.103549\n",
            "Train Epoch: 3 [22400/60000]\tLoss: 0.087868\n",
            "Train Epoch: 3 [23040/60000]\tLoss: 0.120668\n",
            "Train Epoch: 3 [23680/60000]\tLoss: 0.128699\n",
            "Train Epoch: 3 [24320/60000]\tLoss: 0.110208\n",
            "Train Epoch: 3 [24960/60000]\tLoss: 0.154553\n",
            "Train Epoch: 3 [25600/60000]\tLoss: 0.080345\n",
            "Train Epoch: 3 [26240/60000]\tLoss: 0.159057\n",
            "Train Epoch: 3 [26880/60000]\tLoss: 0.131595\n",
            "Train Epoch: 3 [27520/60000]\tLoss: 0.207076\n",
            "Train Epoch: 3 [28160/60000]\tLoss: 0.089730\n",
            "Train Epoch: 3 [28800/60000]\tLoss: 0.141791\n",
            "Train Epoch: 3 [29440/60000]\tLoss: 0.201048\n",
            "Train Epoch: 3 [30080/60000]\tLoss: 0.025659\n",
            "Train Epoch: 3 [30720/60000]\tLoss: 0.086274\n",
            "Train Epoch: 3 [31360/60000]\tLoss: 0.136901\n",
            "Train Epoch: 3 [32000/60000]\tLoss: 0.028239\n",
            "Train Epoch: 3 [32640/60000]\tLoss: 0.116930\n",
            "Train Epoch: 3 [33280/60000]\tLoss: 0.128475\n",
            "Train Epoch: 3 [33920/60000]\tLoss: 0.059097\n",
            "Train Epoch: 3 [34560/60000]\tLoss: 0.274735\n",
            "Train Epoch: 3 [35200/60000]\tLoss: 0.071718\n",
            "Train Epoch: 3 [35840/60000]\tLoss: 0.188568\n",
            "Train Epoch: 3 [36480/60000]\tLoss: 0.134953\n",
            "Train Epoch: 3 [37120/60000]\tLoss: 0.116747\n",
            "Train Epoch: 3 [37760/60000]\tLoss: 0.131489\n",
            "Train Epoch: 3 [38400/60000]\tLoss: 0.222626\n",
            "Train Epoch: 3 [39040/60000]\tLoss: 0.180707\n",
            "Train Epoch: 3 [39680/60000]\tLoss: 0.134599\n",
            "Train Epoch: 3 [40320/60000]\tLoss: 0.147198\n",
            "Train Epoch: 3 [40960/60000]\tLoss: 0.091199\n",
            "Train Epoch: 3 [41600/60000]\tLoss: 0.083136\n",
            "Train Epoch: 3 [42240/60000]\tLoss: 0.179712\n",
            "Train Epoch: 3 [42880/60000]\tLoss: 0.084881\n",
            "Train Epoch: 3 [43520/60000]\tLoss: 0.043734\n",
            "Train Epoch: 3 [44160/60000]\tLoss: 0.054327\n",
            "Train Epoch: 3 [44800/60000]\tLoss: 0.094171\n",
            "Train Epoch: 3 [45440/60000]\tLoss: 0.088453\n",
            "Train Epoch: 3 [46080/60000]\tLoss: 0.308653\n",
            "Train Epoch: 3 [46720/60000]\tLoss: 0.181086\n",
            "Train Epoch: 3 [47360/60000]\tLoss: 0.139339\n",
            "Train Epoch: 3 [48000/60000]\tLoss: 0.091039\n",
            "Train Epoch: 3 [48640/60000]\tLoss: 0.038153\n",
            "Train Epoch: 3 [49280/60000]\tLoss: 0.380421\n",
            "Train Epoch: 3 [49920/60000]\tLoss: 0.295181\n",
            "Train Epoch: 3 [50560/60000]\tLoss: 0.062527\n",
            "Train Epoch: 3 [51200/60000]\tLoss: 0.159972\n",
            "Train Epoch: 3 [51840/60000]\tLoss: 0.135536\n",
            "Train Epoch: 3 [52480/60000]\tLoss: 0.221744\n",
            "Train Epoch: 3 [53120/60000]\tLoss: 0.222743\n",
            "Train Epoch: 3 [53760/60000]\tLoss: 0.111651\n",
            "Train Epoch: 3 [54400/60000]\tLoss: 0.195792\n",
            "Train Epoch: 3 [55040/60000]\tLoss: 0.134884\n",
            "Train Epoch: 3 [55680/60000]\tLoss: 0.146636\n",
            "Train Epoch: 3 [56320/60000]\tLoss: 0.039730\n",
            "Train Epoch: 3 [56960/60000]\tLoss: 0.142698\n",
            "Train Epoch: 3 [57600/60000]\tLoss: 0.199873\n",
            "Train Epoch: 3 [58240/60000]\tLoss: 0.098947\n",
            "Train Epoch: 3 [58880/60000]\tLoss: 0.123084\n",
            "Train Epoch: 3 [59520/60000]\tLoss: 0.070389\n",
            "\n",
            "Test set: Avg. loss: 0.0713, Accuracy: 9769/10000 (98%)\n",
            "\n"
          ]
        }
      ]
    },
    {
      "cell_type": "code",
      "source": [
        "# Run network on data we got before and show predictions\n",
        "output = model(example_data)\n",
        "\n",
        "fig = plt.figure()\n",
        "for i in range(10):\n",
        "  plt.subplot(5,5,i+1)\n",
        "  plt.tight_layout()\n",
        "  plt.imshow(example_data[i][0], cmap='gray', interpolation='none')\n",
        "  plt.title(\"Prediction: {}\".format(\n",
        "    output.data.max(1, keepdim=True)[1][i].item()))\n",
        "  plt.xticks([])\n",
        "  plt.yticks([])\n",
        "plt.show()"
      ],
      "metadata": {
        "id": "o7fRUAy9Se1B",
        "outputId": "14d41558-ad2e-4f7e-aa9a-6ddaf0e83c68",
        "colab": {
          "base_uri": "https://localhost:8080/",
          "height": 207
        }
      },
      "execution_count": 20,
      "outputs": [
        {
          "output_type": "display_data",
          "data": {
            "text/plain": [
              "<Figure size 640x480 with 10 Axes>"
            ],
            "image/png": "[encoded data removed]"
          },
          "metadata": {}
        }
      ]
    },
    {
      "cell_type": "code",
      "source": [],
      "metadata": {
        "id": "_-Jw3JDDJnv0"
      },
      "execution_count": null,
      "outputs": []
    }
  ]
}