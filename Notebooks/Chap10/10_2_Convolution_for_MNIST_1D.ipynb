{
  "nbformat": 4,
  "nbformat_minor": 0,
  "metadata": {
    "colab": {
      "provenance": [],
      "include_colab_link": true
    },
    "kernelspec": {
      "name": "python3",
      "display_name": "Python 3"
    },
    "language_info": {
      "name": "python"
    }
  },
  "cells": [
    {
      "cell_type": "markdown",
      "metadata": {
        "id": "view-in-github",
        "colab_type": "text"
      },
      "source": [
        "<a href=\"https://colab.research.google.com/github/carloscl03/tareasMateML/blob/main/Notebooks/Chap10/10_2_Convolution_for_MNIST_1D.ipynb\" target=\"_parent\"><img src=\"https://colab.research.google.com/assets/colab-badge.svg\" alt=\"Open In Colab\"/></a>"
      ]
    },
    {
      "cell_type": "markdown",
      "source": [
        "# **Notebook 10.2: Convolution for MNIST-1D**\n",
        "\n",
        "This notebook investigates a 1D convolutional network for MNIST-1D as in figure 10.7 and 10.8a.\n",
        "\n",
        "Work through the cells below, running each cell in turn. In various places you will see the words \"TO DO\". Follow the instructions at these places and make predictions about what is going to happen or write code to complete the functions.\n",
        "\n",
        "Contact me at udlbookmail@gmail.com if you find any mistakes or have any suggestions.\n",
        "\n"
      ],
      "metadata": {
        "id": "t9vk9Elugvmi"
      }
    },
    {
      "cell_type": "code",
      "source": [
        "# Run this if you're in a Colab to install MNIST 1D repository\n",
        "!pip install git+https://github.com/greydanus/mnist1d"
      ],
      "metadata": {
        "id": "D5yLObtZCi9J",
        "outputId": "fde896a9-c3c1-426a-b101-0835694a1b24",
        "colab": {
          "base_uri": "https://localhost:8080/"
        }
      },
      "execution_count": 1,
      "outputs": [
        {
          "output_type": "stream",
          "name": "stdout",
          "text": [
            "Collecting git+https://github.com/greydanus/mnist1d\n",
            "  Cloning https://github.com/greydanus/mnist1d to /tmp/pip-req-build-h6cs3ntd\n",
            "  Running command git clone --filter=blob:none --quiet https://github.com/greydanus/mnist1d /tmp/pip-req-build-h6cs3ntd\n",
            "  Resolved https://github.com/greydanus/mnist1d to commit 350929d12f4c9a4b7355e0c96604e41b9239bdb4\n",
            "  Installing build dependencies ... \u001b[?25l\u001b[?25hdone\n",
            "  Getting requirements to build wheel ... \u001b[?25l\u001b[?25hdone\n",
            "  Preparing metadata (pyproject.toml) ... \u001b[?25l\u001b[?25hdone\n",
            "Requirement already satisfied: requests in /usr/local/lib/python3.10/dist-packages (from mnist1d==0.0.2.post9) (2.31.0)\n",
            "Requirement already satisfied: numpy in /usr/local/lib/python3.10/dist-packages (from mnist1d==0.0.2.post9) (1.25.2)\n",
            "Requirement already satisfied: matplotlib in /usr/local/lib/python3.10/dist-packages (from mnist1d==0.0.2.post9) (3.7.1)\n",
            "Requirement already satisfied: scipy in /usr/local/lib/python3.10/dist-packages (from mnist1d==0.0.2.post9) (1.11.4)\n",
            "Requirement already satisfied: contourpy>=1.0.1 in /usr/local/lib/python3.10/dist-packages (from matplotlib->mnist1d==0.0.2.post9) (1.2.1)\n",
            "Requirement already satisfied: cycler>=0.10 in /usr/local/lib/python3.10/dist-packages (from matplotlib->mnist1d==0.0.2.post9) (0.12.1)\n",
            "Requirement already satisfied: fonttools>=4.22.0 in /usr/local/lib/python3.10/dist-packages (from matplotlib->mnist1d==0.0.2.post9) (4.53.0)\n",
            "Requirement already satisfied: kiwisolver>=1.0.1 in /usr/local/lib/python3.10/dist-packages (from matplotlib->mnist1d==0.0.2.post9) (1.4.5)\n",
            "Requirement already satisfied: packaging>=20.0 in /usr/local/lib/python3.10/dist-packages (from matplotlib->mnist1d==0.0.2.post9) (24.1)\n",
            "Requirement already satisfied: pillow>=6.2.0 in /usr/local/lib/python3.10/dist-packages (from matplotlib->mnist1d==0.0.2.post9) (9.4.0)\n",
            "Requirement already satisfied: pyparsing>=2.3.1 in /usr/local/lib/python3.10/dist-packages (from matplotlib->mnist1d==0.0.2.post9) (3.1.2)\n",
            "Requirement already satisfied: python-dateutil>=2.7 in /usr/local/lib/python3.10/dist-packages (from matplotlib->mnist1d==0.0.2.post9) (2.8.2)\n",
            "Requirement already satisfied: charset-normalizer<4,>=2 in /usr/local/lib/python3.10/dist-packages (from requests->mnist1d==0.0.2.post9) (3.3.2)\n",
            "Requirement already satisfied: idna<4,>=2.5 in /usr/local/lib/python3.10/dist-packages (from requests->mnist1d==0.0.2.post9) (3.7)\n",
            "Requirement already satisfied: urllib3<3,>=1.21.1 in /usr/local/lib/python3.10/dist-packages (from requests->mnist1d==0.0.2.post9) (2.0.7)\n",
            "Requirement already satisfied: certifi>=2017.4.17 in /usr/local/lib/python3.10/dist-packages (from requests->mnist1d==0.0.2.post9) (2024.6.2)\n",
            "Requirement already satisfied: six>=1.5 in /usr/local/lib/python3.10/dist-packages (from python-dateutil>=2.7->matplotlib->mnist1d==0.0.2.post9) (1.16.0)\n",
            "Building wheels for collected packages: mnist1d\n",
            "  Building wheel for mnist1d (pyproject.toml) ... \u001b[?25l\u001b[?25hdone\n",
            "  Created wheel for mnist1d: filename=mnist1d-0.0.2.post9-py3-none-any.whl size=14496 sha256=9135955b0fca2124e9363866684e6684ddb9c58b4857cc2e0e576586e24ab805\n",
            "  Stored in directory: /tmp/pip-ephem-wheel-cache-tby4zsl6/wheels/41/95/55/45fcf7d38cfa97e35682da6c5017d4513729131326ce935371\n",
            "Successfully built mnist1d\n",
            "Installing collected packages: mnist1d\n",
            "Successfully installed mnist1d-0.0.2.post9\n"
          ]
        }
      ]
    },
    {
      "cell_type": "code",
      "source": [
        "import numpy as np\n",
        "import os\n",
        "import torch, torch.nn as nn\n",
        "from torch.utils.data import TensorDataset, DataLoader\n",
        "from torch.optim.lr_scheduler import StepLR\n",
        "import matplotlib.pyplot as plt\n",
        "import mnist1d\n",
        "import random"
      ],
      "metadata": {
        "id": "YrXWAH7sUWvU"
      },
      "execution_count": 2,
      "outputs": []
    },
    {
      "cell_type": "code",
      "source": [
        "args = mnist1d.data.get_dataset_args()\n",
        "data = mnist1d.data.get_dataset(args, path='./mnist1d_data.pkl', download=False, regenerate=False)\n",
        "\n",
        "# The training and test input and outputs are in\n",
        "# data['x'], data['y'], data['x_test'], and data['y_test']\n",
        "print(\"Examples in training set: {}\".format(len(data['y'])))\n",
        "print(\"Examples in test set: {}\".format(len(data['y_test'])))\n",
        "print(\"Length of each example: {}\".format(data['x'].shape[-1]))"
      ],
      "metadata": {
        "id": "twI72ZCrCt5z",
        "outputId": "d4bb1c08-a01c-44b5-d959-921152153559",
        "colab": {
          "base_uri": "https://localhost:8080/"
        }
      },
      "execution_count": 3,
      "outputs": [
        {
          "output_type": "stream",
          "name": "stdout",
          "text": [
            "Did or could not load data from ./mnist1d_data.pkl. Rebuilding dataset...\n",
            "Examples in training set: 4000\n",
            "Examples in test set: 1000\n",
            "Length of each example: 40\n"
          ]
        }
      ]
    },
    {
      "cell_type": "code",
      "source": [
        "# Load in the data\n",
        "train_data_x = data['x'].transpose()\n",
        "train_data_y = data['y']\n",
        "val_data_x = data['x_test'].transpose()\n",
        "val_data_y = data['y_test']\n",
        "# Print out sizes\n",
        "print(\"Train data: %d examples (columns), each of which has %d dimensions (rows)\"%((train_data_x.shape[1],train_data_x.shape[0])))\n",
        "print(\"Validation data: %d examples (columns), each of which has %d dimensions (rows)\"%((val_data_x.shape[1],val_data_x.shape[0])))"
      ],
      "metadata": {
        "id": "8bKADvLHbiV5",
        "outputId": "e1c5f6ca-30bf-4390-c19f-8d49604fc2d9",
        "colab": {
          "base_uri": "https://localhost:8080/"
        }
      },
      "execution_count": 4,
      "outputs": [
        {
          "output_type": "stream",
          "name": "stdout",
          "text": [
            "Train data: 4000 examples (columns), each of which has 40 dimensions (rows)\n",
            "Validation data: 1000 examples (columns), each of which has 40 dimensions (rows)\n"
          ]
        }
      ]
    },
    {
      "cell_type": "markdown",
      "source": [
        "Define the network"
      ],
      "metadata": {
        "id": "_sFvRDGrl4qe"
      }
    },
    {
      "cell_type": "code",
      "source": [
        "# There are 40 input dimensions and 10 output dimensions for this data\n",
        "# The inputs correspond to the 40 offsets in the MNIST1D template.\n",
        "D_i = 40\n",
        "# The outputs correspond to the 10 digits\n",
        "D_o = 10\n",
        "\n",
        "\n",
        "# TODO Create a model with the following layers\n",
        "# 1. Convolutional layer, (input=length 40 and 1 channel, kernel size 3, stride 2, padding=\"valid\", 15 output channels )\n",
        "# 2. ReLU\n",
        "# 3. Convolutional layer, (input=length 19 and 15 channels, kernel size 3, stride 2, padding=\"valid\", 15 output channels )\n",
        "# 4. ReLU\n",
        "# 5. Convolutional layer, (input=length 9 and 15 channels, kernel size 3, stride 2, padding=\"valid\", 15 output channels)\n",
        "# 6. ReLU\n",
        "# 7. Flatten (converts 4x15) to length 60\n",
        "# 8. Linear layer (input size = 60, output size = 10)\n",
        "# References:\n",
        "# https://pytorch.org/docs/1.13/generated/torch.nn.Conv1d.html?highlight=conv1d#torch.nn.Conv1d\n",
        "# https://pytorch.org/docs/stable/generated/torch.nn.Flatten.html\n",
        "# https://pytorch.org/docs/1.13/generated/torch.nn.Linear.html?highlight=linear#torch.nn.Linear\n",
        "\n",
        "# NOTE THAT THE CONVOLUTIONAL LAYERS NEED TO TAKE THE NUMBER OF INPUT CHANNELS AS A PARAMETER\n",
        "# AND NOT THE INPUT SIZE.\n",
        "\n",
        "# Replace the following function:\n",
        "model = nn.Sequential(\n",
        "    nn.Conv1d(in_channels=1, out_channels=15, kernel_size=3, stride=2, padding=0),\n",
        "    nn.ReLU(),\n",
        "    nn.Conv1d(in_channels=15, out_channels=15, kernel_size=3, stride=2, padding=0),\n",
        "    nn.ReLU(),\n",
        "    nn.Conv1d(in_channels=15, out_channels=15, kernel_size=3, stride=2, padding=0),\n",
        "    nn.ReLU(),\n",
        "    nn.Flatten(),\n",
        "    nn.Linear(4*15, 60),\n",
        "    nn.ReLU(),\n",
        "    nn.Linear(60, 10)\n",
        ")\n",
        "\n",
        "\n"
      ],
      "metadata": {
        "id": "FslroPJJffrh"
      },
      "execution_count": 7,
      "outputs": []
    },
    {
      "cell_type": "code",
      "source": [
        "# He initialization of weights\n",
        "def weights_init(layer_in):\n",
        "  if isinstance(layer_in, nn.Linear):\n",
        "    nn.init.kaiming_uniform_(layer_in.weight)\n",
        "    layer_in.bias.data.fill_(0.0)"
      ],
      "metadata": {
        "id": "YgLaex1pfhqz"
      },
      "execution_count": 8,
      "outputs": []
    },
    {
      "cell_type": "code",
      "source": [
        "# choose cross entropy loss function (equation 5.24 in the loss notes)\n",
        "loss_function = nn.CrossEntropyLoss()\n",
        "# construct SGD optimizer and initialize learning rate and momentum\n",
        "optimizer = torch.optim.SGD(model.parameters(), lr = 0.05, momentum=0.9)\n",
        "# object that decreases learning rate by half every 20 epochs\n",
        "scheduler = StepLR(optimizer, step_size=20, gamma=0.5)\n",
        "# create 100 dummy data points and store in data loader class\n",
        "x_train = torch.tensor(train_data_x.transpose().astype('float32'))\n",
        "y_train = torch.tensor(train_data_y.astype('long')).long()\n",
        "x_val= torch.tensor(val_data_x.transpose().astype('float32'))\n",
        "y_val = torch.tensor(val_data_y.astype('long')).long()\n",
        "\n",
        "# load the data into a class that creates the batches\n",
        "data_loader = DataLoader(TensorDataset(x_train,y_train), batch_size=100, shuffle=True, worker_init_fn=np.random.seed(1))\n",
        "\n",
        "# Initialize model weights\n",
        "model.apply(weights_init)\n",
        "\n",
        "# loop over the dataset n_epoch times\n",
        "n_epoch = 100\n",
        "# store the loss and the % correct at each epoch\n",
        "losses_train = np.zeros((n_epoch))\n",
        "errors_train = np.zeros((n_epoch))\n",
        "losses_val = np.zeros((n_epoch))\n",
        "errors_val = np.zeros((n_epoch))\n",
        "\n",
        "for epoch in range(n_epoch):\n",
        "  # loop over batches\n",
        "  for i, data in enumerate(data_loader):\n",
        "    # retrieve inputs and labels for this batch\n",
        "    x_batch, y_batch = data\n",
        "    # zero the parameter gradients\n",
        "    optimizer.zero_grad()\n",
        "    # forward pass -- calculate model output\n",
        "    pred = model(x_batch[:,None,:])\n",
        "    # compute the loss\n",
        "    loss = loss_function(pred, y_batch)\n",
        "    # backward pass\n",
        "    loss.backward()\n",
        "    # SGD update\n",
        "    optimizer.step()\n",
        "\n",
        "  # Run whole dataset to get statistics -- normally wouldn't do this\n",
        "  pred_train = model(x_train[:,None,:])\n",
        "  pred_val = model(x_val[:,None,:])\n",
        "  _, predicted_train_class = torch.max(pred_train.data, 1)\n",
        "  _, predicted_val_class = torch.max(pred_val.data, 1)\n",
        "  errors_train[epoch] = 100 - 100 * (predicted_train_class == y_train).float().sum() / len(y_train)\n",
        "  errors_val[epoch]= 100 - 100 * (predicted_val_class == y_val).float().sum() / len(y_val)\n",
        "  losses_train[epoch] = loss_function(pred_train, y_train).item()\n",
        "  losses_val[epoch]= loss_function(pred_val, y_val).item()\n",
        "  print(f'Epoch {epoch:5d}, train loss {losses_train[epoch]:.6f}, train error {errors_train[epoch]:3.2f},  val loss {losses_val[epoch]:.6f}, percent error {errors_val[epoch]:3.2f}')\n",
        "\n",
        "  # tell scheduler to consider updating learning rate\n",
        "  scheduler.step()\n",
        "\n",
        "# Plot the results\n",
        "fig, ax = plt.subplots()\n",
        "ax.plot(errors_train,'r-',label='train')\n",
        "ax.plot(errors_val,'b-',label='validation')\n",
        "ax.set_ylim(0,100); ax.set_xlim(0,n_epoch)\n",
        "ax.set_xlabel('Epoch'); ax.set_ylabel('Error')\n",
        "ax.set_title('Part I: Validation Result %3.2f'%(errors_val[-1]))\n",
        "ax.legend()\n",
        "plt.show()"
      ],
      "metadata": {
        "id": "NYw8I_3mmX5c",
        "outputId": "ceb5e572-ad99-4200-b57b-bbf91bf24d54",
        "colab": {
          "base_uri": "https://localhost:8080/",
          "height": 1000
        }
      },
      "execution_count": 9,
      "outputs": [
        {
          "output_type": "stream",
          "name": "stdout",
          "text": [
            "Epoch     0, train loss 2.117116, train error 77.12,  val loss 2.117532, percent error 77.40\n",
            "Epoch     1, train loss 1.483824, train error 57.38,  val loss 1.481548, percent error 59.90\n",
            "Epoch     2, train loss 1.343800, train error 53.67,  val loss 1.355431, percent error 55.10\n",
            "Epoch     3, train loss 1.152792, train error 45.08,  val loss 1.161714, percent error 49.10\n",
            "Epoch     4, train loss 1.238594, train error 49.83,  val loss 1.284930, percent error 52.60\n",
            "Epoch     5, train loss 0.955805, train error 39.08,  val loss 0.999556, percent error 42.60\n",
            "Epoch     6, train loss 0.815969, train error 32.60,  val loss 0.868639, percent error 36.30\n",
            "Epoch     7, train loss 0.722149, train error 29.03,  val loss 0.775029, percent error 31.10\n",
            "Epoch     8, train loss 0.646554, train error 25.82,  val loss 0.702970, percent error 30.30\n",
            "Epoch     9, train loss 0.566696, train error 24.38,  val loss 0.666851, percent error 29.20\n",
            "Epoch    10, train loss 0.472309, train error 17.80,  val loss 0.569812, percent error 22.70\n",
            "Epoch    11, train loss 0.514621, train error 19.65,  val loss 0.613746, percent error 21.70\n",
            "Epoch    12, train loss 0.405991, train error 15.65,  val loss 0.565303, percent error 20.50\n",
            "Epoch    13, train loss 0.631935, train error 24.85,  val loss 0.771222, percent error 28.10\n",
            "Epoch    14, train loss 0.329969, train error 13.68,  val loss 0.480394, percent error 16.60\n",
            "Epoch    15, train loss 0.257220, train error 9.88,  val loss 0.438859, percent error 15.50\n",
            "Epoch    16, train loss 0.277605, train error 11.15,  val loss 0.459327, percent error 15.80\n",
            "Epoch    17, train loss 0.237917, train error 8.95,  val loss 0.430363, percent error 15.30\n",
            "Epoch    18, train loss 0.217919, train error 8.78,  val loss 0.417366, percent error 13.80\n",
            "Epoch    19, train loss 0.174865, train error 6.88,  val loss 0.401323, percent error 12.90\n",
            "Epoch    20, train loss 0.102988, train error 3.38,  val loss 0.338634, percent error 10.40\n",
            "Epoch    21, train loss 0.107365, train error 3.82,  val loss 0.326154, percent error 10.10\n",
            "Epoch    22, train loss 0.086536, train error 3.00,  val loss 0.346861, percent error 10.40\n",
            "Epoch    23, train loss 0.092925, train error 3.18,  val loss 0.362870, percent error 11.20\n",
            "Epoch    24, train loss 0.093845, train error 3.12,  val loss 0.374644, percent error 11.60\n",
            "Epoch    25, train loss 0.076189, train error 2.65,  val loss 0.373632, percent error 10.40\n",
            "Epoch    26, train loss 0.089439, train error 3.00,  val loss 0.380438, percent error 10.60\n",
            "Epoch    27, train loss 0.051967, train error 1.50,  val loss 0.363627, percent error 10.90\n",
            "Epoch    28, train loss 0.045022, train error 1.12,  val loss 0.369368, percent error 9.80\n",
            "Epoch    29, train loss 0.050302, train error 1.70,  val loss 0.395745, percent error 10.60\n",
            "Epoch    30, train loss 0.048249, train error 1.62,  val loss 0.398617, percent error 9.80\n",
            "Epoch    31, train loss 0.033454, train error 0.80,  val loss 0.384404, percent error 10.00\n",
            "Epoch    32, train loss 0.047909, train error 1.47,  val loss 0.394572, percent error 10.00\n",
            "Epoch    33, train loss 0.039999, train error 1.05,  val loss 0.384459, percent error 10.50\n",
            "Epoch    34, train loss 0.057764, train error 2.32,  val loss 0.423637, percent error 11.00\n",
            "Epoch    35, train loss 0.029209, train error 0.75,  val loss 0.431461, percent error 9.90\n",
            "Epoch    36, train loss 0.027736, train error 0.65,  val loss 0.397893, percent error 9.00\n",
            "Epoch    37, train loss 0.031370, train error 0.80,  val loss 0.390397, percent error 9.40\n",
            "Epoch    38, train loss 0.028842, train error 0.85,  val loss 0.419880, percent error 10.00\n",
            "Epoch    39, train loss 0.051240, train error 1.65,  val loss 0.495701, percent error 10.50\n",
            "Epoch    40, train loss 0.024421, train error 0.75,  val loss 0.423427, percent error 9.90\n",
            "Epoch    41, train loss 0.012343, train error 0.12,  val loss 0.395355, percent error 9.20\n",
            "Epoch    42, train loss 0.010546, train error 0.07,  val loss 0.403701, percent error 9.20\n",
            "Epoch    43, train loss 0.009826, train error 0.05,  val loss 0.408248, percent error 9.40\n",
            "Epoch    44, train loss 0.010611, train error 0.12,  val loss 0.419420, percent error 9.50\n",
            "Epoch    45, train loss 0.009394, train error 0.07,  val loss 0.425387, percent error 9.90\n",
            "Epoch    46, train loss 0.009277, train error 0.07,  val loss 0.427093, percent error 9.50\n",
            "Epoch    47, train loss 0.008187, train error 0.07,  val loss 0.428337, percent error 9.90\n",
            "Epoch    48, train loss 0.008299, train error 0.03,  val loss 0.436203, percent error 9.30\n",
            "Epoch    49, train loss 0.007320, train error 0.03,  val loss 0.446139, percent error 9.50\n",
            "Epoch    50, train loss 0.006855, train error 0.00,  val loss 0.447167, percent error 9.50\n",
            "Epoch    51, train loss 0.006713, train error 0.03,  val loss 0.448825, percent error 9.50\n",
            "Epoch    52, train loss 0.006255, train error 0.00,  val loss 0.446148, percent error 9.70\n",
            "Epoch    53, train loss 0.005983, train error 0.03,  val loss 0.456214, percent error 9.70\n",
            "Epoch    54, train loss 0.007051, train error 0.03,  val loss 0.458484, percent error 9.50\n",
            "Epoch    55, train loss 0.005966, train error 0.00,  val loss 0.471345, percent error 10.00\n",
            "Epoch    56, train loss 0.005366, train error 0.00,  val loss 0.471539, percent error 9.90\n",
            "Epoch    57, train loss 0.005084, train error 0.00,  val loss 0.468151, percent error 9.90\n",
            "Epoch    58, train loss 0.004869, train error 0.00,  val loss 0.472635, percent error 10.00\n",
            "Epoch    59, train loss 0.004730, train error 0.00,  val loss 0.480575, percent error 9.80\n",
            "Epoch    60, train loss 0.004609, train error 0.00,  val loss 0.477863, percent error 9.80\n",
            "Epoch    61, train loss 0.004524, train error 0.00,  val loss 0.483691, percent error 9.90\n",
            "Epoch    62, train loss 0.004478, train error 0.00,  val loss 0.481220, percent error 9.90\n",
            "Epoch    63, train loss 0.004362, train error 0.00,  val loss 0.486453, percent error 9.70\n",
            "Epoch    64, train loss 0.004262, train error 0.00,  val loss 0.484710, percent error 9.80\n",
            "Epoch    65, train loss 0.004203, train error 0.00,  val loss 0.486849, percent error 9.50\n",
            "Epoch    66, train loss 0.004155, train error 0.00,  val loss 0.487164, percent error 9.80\n",
            "Epoch    67, train loss 0.004095, train error 0.00,  val loss 0.491030, percent error 9.60\n",
            "Epoch    68, train loss 0.004042, train error 0.00,  val loss 0.491110, percent error 9.60\n",
            "Epoch    69, train loss 0.004172, train error 0.00,  val loss 0.492166, percent error 9.50\n",
            "Epoch    70, train loss 0.004088, train error 0.00,  val loss 0.494543, percent error 9.50\n",
            "Epoch    71, train loss 0.003854, train error 0.00,  val loss 0.495606, percent error 9.50\n",
            "Epoch    72, train loss 0.003800, train error 0.00,  val loss 0.497632, percent error 9.70\n",
            "Epoch    73, train loss 0.003750, train error 0.00,  val loss 0.498953, percent error 9.70\n",
            "Epoch    74, train loss 0.003748, train error 0.00,  val loss 0.499309, percent error 9.70\n",
            "Epoch    75, train loss 0.003661, train error 0.00,  val loss 0.500639, percent error 9.80\n",
            "Epoch    76, train loss 0.003618, train error 0.00,  val loss 0.504422, percent error 9.70\n",
            "Epoch    77, train loss 0.003559, train error 0.00,  val loss 0.503506, percent error 9.60\n",
            "Epoch    78, train loss 0.003577, train error 0.00,  val loss 0.504786, percent error 9.70\n",
            "Epoch    79, train loss 0.003475, train error 0.00,  val loss 0.506695, percent error 9.50\n",
            "Epoch    80, train loss 0.003449, train error 0.00,  val loss 0.508033, percent error 9.90\n",
            "Epoch    81, train loss 0.003421, train error 0.00,  val loss 0.508492, percent error 9.70\n",
            "Epoch    82, train loss 0.003400, train error 0.00,  val loss 0.508902, percent error 9.90\n",
            "Epoch    83, train loss 0.003385, train error 0.00,  val loss 0.509536, percent error 9.60\n",
            "Epoch    84, train loss 0.003363, train error 0.00,  val loss 0.509787, percent error 9.70\n",
            "Epoch    85, train loss 0.003337, train error 0.00,  val loss 0.510716, percent error 9.70\n",
            "Epoch    86, train loss 0.003318, train error 0.00,  val loss 0.511649, percent error 9.80\n",
            "Epoch    87, train loss 0.003351, train error 0.00,  val loss 0.513253, percent error 10.00\n",
            "Epoch    88, train loss 0.003289, train error 0.00,  val loss 0.512470, percent error 9.80\n",
            "Epoch    89, train loss 0.003262, train error 0.00,  val loss 0.512845, percent error 9.70\n",
            "Epoch    90, train loss 0.003244, train error 0.00,  val loss 0.514211, percent error 9.90\n",
            "Epoch    91, train loss 0.003220, train error 0.00,  val loss 0.514424, percent error 9.70\n",
            "Epoch    92, train loss 0.003203, train error 0.00,  val loss 0.514683, percent error 9.80\n",
            "Epoch    93, train loss 0.003186, train error 0.00,  val loss 0.515885, percent error 9.80\n",
            "Epoch    94, train loss 0.003176, train error 0.00,  val loss 0.516782, percent error 10.00\n",
            "Epoch    95, train loss 0.003150, train error 0.00,  val loss 0.517482, percent error 10.00\n",
            "Epoch    96, train loss 0.003131, train error 0.00,  val loss 0.516999, percent error 9.80\n",
            "Epoch    97, train loss 0.003109, train error 0.00,  val loss 0.518158, percent error 9.80\n",
            "Epoch    98, train loss 0.003098, train error 0.00,  val loss 0.519205, percent error 10.00\n",
            "Epoch    99, train loss 0.003080, train error 0.00,  val loss 0.519108, percent error 9.80\n"
          ]
        },
        {
          "output_type": "display_data",
          "data": {
            "text/plain": [
              "<Figure size 640x480 with 1 Axes>"
            ],
            "image/png": "[encoded data removed]"
          },
          "metadata": {}
        }
      ]
    },
    {
      "cell_type": "code",
      "source": [],
      "metadata": {
        "id": "VJiU1bvv84nZ"
      },
      "execution_count": null,
      "outputs": []
    }
  ]
}