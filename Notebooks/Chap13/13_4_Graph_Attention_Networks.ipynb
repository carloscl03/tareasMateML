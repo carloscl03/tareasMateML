{
  "nbformat": 4,
  "nbformat_minor": 0,
  "metadata": {
    "colab": {
      "provenance": [],
      "include_colab_link": true
    },
    "kernelspec": {
      "name": "python3",
      "display_name": "Python 3"
    },
    "language_info": {
      "name": "python"
    }
  },
  "cells": [
    {
      "cell_type": "markdown",
      "metadata": {
        "id": "view-in-github",
        "colab_type": "text"
      },
      "source": [
        "<a href=\"https://colab.research.google.com/github/carloscl03/tareasMateML/blob/main/Notebooks/Chap13/13_4_Graph_Attention_Networks.ipynb\" target=\"_parent\"><img src=\"https://colab.research.google.com/assets/colab-badge.svg\" alt=\"Open In Colab\"/></a>"
      ]
    },
    {
      "cell_type": "markdown",
      "source": [
        "# **Notebook 13.4: Graph attention networks**\n",
        "\n",
        "This notebook builds a graph attention mechanism from scratch, as discussed in section 13.8.6 of the book and illustrated in figure 13.12c\n",
        "\n",
        "Work through the cells below, running each cell in turn. In various places you will see the words \"TO DO\". Follow the instructions at these places and make predictions about what is going to happen or write code to complete the functions.\n",
        "\n",
        "Contact me at udlbookmail@gmail.com if you find any mistakes or have any suggestions.\n",
        "\n"
      ],
      "metadata": {
        "id": "t9vk9Elugvmi"
      }
    },
    {
      "cell_type": "code",
      "source": [
        "import numpy as np\n",
        "import matplotlib.pyplot as plt"
      ],
      "metadata": {
        "id": "OLComQyvCIJ7"
      },
      "execution_count": 1,
      "outputs": []
    },
    {
      "cell_type": "markdown",
      "source": [
        "The self-attention mechanism maps $N$ inputs $\\mathbf{x}_{n}\\in\\mathbb{R}^{D}$ and returns $N$ outputs $\\mathbf{x}'_{n}\\in \\mathbb{R}^{D}$.  \n",
        "\n"
      ],
      "metadata": {
        "id": "9OJkkoNqCVK2"
      }
    },
    {
      "cell_type": "code",
      "source": [
        "# Set seed so we get the same random numbers\n",
        "np.random.seed(1)\n",
        "# Number of nodes in the graph\n",
        "N = 8\n",
        "# Number of dimensions of each input\n",
        "D = 4\n",
        "\n",
        "# Define a graph\n",
        "A = np.array([[0,1,0,1,0,0,0,0],\n",
        "              [1,0,1,1,1,0,0,0],\n",
        "              [0,1,0,0,1,0,0,0],\n",
        "              [1,1,0,0,1,0,0,0],\n",
        "              [0,1,1,1,0,1,0,1],\n",
        "              [0,0,0,0,1,0,1,1],\n",
        "              [0,0,0,0,0,1,0,0],\n",
        "              [0,0,0,0,1,1,0,0]]);\n",
        "print(A)\n",
        "\n",
        "# Let's also define some random data\n",
        "X = np.random.normal(size=(D,N))"
      ],
      "metadata": {
        "id": "oAygJwLiCSri",
        "outputId": "20083cab-ec81-436c-ea8d-3e96463f943e",
        "colab": {
          "base_uri": "https://localhost:8080/"
        }
      },
      "execution_count": 2,
      "outputs": [
        {
          "output_type": "stream",
          "name": "stdout",
          "text": [
            "[[0 1 0 1 0 0 0 0]\n",
            " [1 0 1 1 1 0 0 0]\n",
            " [0 1 0 0 1 0 0 0]\n",
            " [1 1 0 0 1 0 0 0]\n",
            " [0 1 1 1 0 1 0 1]\n",
            " [0 0 0 0 1 0 1 1]\n",
            " [0 0 0 0 0 1 0 0]\n",
            " [0 0 0 0 1 1 0 0]]\n"
          ]
        }
      ]
    },
    {
      "cell_type": "markdown",
      "source": [
        "We'll also need the weights and biases for the keys, queries, and values (equations 12.2 and 12.4)"
      ],
      "metadata": {
        "id": "W2iHFbtKMaDp"
      }
    },
    {
      "cell_type": "code",
      "source": [
        "# Choose random values for the parameters\n",
        "omega = np.random.normal(size=(D,D))\n",
        "beta = np.random.normal(size=(D,1))\n",
        "phi = np.random.normal(size=(1,2*D))"
      ],
      "metadata": {
        "id": "79TSK7oLMobe"
      },
      "execution_count": 21,
      "outputs": []
    },
    {
      "cell_type": "markdown",
      "source": [
        "We'll need a softmax operation that operates on the columns of the matrix and a ReLU function as well"
      ],
      "metadata": {
        "id": "iYPf6c4MhCgq"
      }
    },
    {
      "cell_type": "code",
      "source": [
        "# Define softmax operation that works independently on each column\n",
        "def softmax_cols(data_in):\n",
        "  # Exponentiate all of the values\n",
        "  exp_values = np.exp(data_in) ;\n",
        "  # Sum over columns\n",
        "  denom = np.sum(exp_values, axis = 0);\n",
        "  # Replicate denominator to N rows\n",
        "  denom = np.matmul(np.ones((data_in.shape[0],1)), denom[np.newaxis,:])\n",
        "  # Compute softmax\n",
        "  softmax = exp_values / denom\n",
        "  # return the answer\n",
        "  return softmax\n",
        "\n",
        "\n",
        "# Define the Rectified Linear Unit (ReLU) function\n",
        "def ReLU(preactivation):\n",
        "  activation = preactivation.clip(0.0)\n",
        "  return activation\n"
      ],
      "metadata": {
        "id": "obaQBdUAMXXv"
      },
      "execution_count": 22,
      "outputs": []
    },
    {
      "cell_type": "code",
      "source": [
        " # Now let's compute self attention in matrix form\n",
        "def graph_attention(X,omega, beta, phi, A):\n",
        "\n",
        "  # TODO -- Write this function (see figure 13.12c)\n",
        "  # 1. Compute X_prime\n",
        "  # 2. Compute S\n",
        "  # 3. To apply the mask, set S to a very large negative number (e.g. -1e20) everywhere where A+I is zero\n",
        "  # 4. Run the softmax function to compute the attention values\n",
        "  # 5. Postmultiply X' by the attention values\n",
        "  # 6. Apply the ReLU function\n",
        "  # Replace this line:\n",
        "  # Compute X_prime\n",
        "  X_prime = np.dot(omega, X) + beta\n",
        "\n",
        "  # Compute S\n",
        "  S = np.dot(X_prime.T, X_prime)\n",
        "\n",
        "  # Apply the mask\n",
        "  masked_S = np.where(A + np.eye(N) == 0, -1e20, S)\n",
        "\n",
        "  # Compute attention values\n",
        "  attention_values = softmax_cols(masked_S)\n",
        "\n",
        "  # Multiply X' by attention values\n",
        "  weighted_sum = np.dot(X_prime, attention_values)\n",
        "\n",
        "  # Apply ReLU function\n",
        "  output = ReLU(weighted_sum)\n",
        "\n",
        "  return output;"
      ],
      "metadata": {
        "id": "gb2WvQ3SiH8r"
      },
      "execution_count": 55,
      "outputs": []
    },
    {
      "cell_type": "code",
      "source": [
        "# Test out the graph attention mechanism\n",
        "np.set_printoptions(precision=3)\n",
        "output = graph_attention(X, omega, beta, phi, A);\n",
        "print(\"Correct answer is:\")\n",
        "print(\"[[0.    0.028 0.37  0.    0.97  0.    0.    0.698]\")\n",
        "print(\" [0.    0.    0.    0.    1.184 0.    2.654 0.  ]\")\n",
        "print(\" [1.13  0.564 0.    1.298 0.268 0.    0.    0.779]\")\n",
        "print(\" [0.825 0.    0.    1.175 0.    0.    0.    0.  ]]]\")\n",
        "\n",
        "\n",
        "print(\"Your answer is:\")\n",
        "print(output)"
      ],
      "metadata": {
        "id": "d4p6HyHXmDh5",
        "outputId": "e32b2021-c8a0-457c-af53-aab32c3117b1",
        "colab": {
          "base_uri": "https://localhost:8080/"
        }
      },
      "execution_count": 56,
      "outputs": [
        {
          "output_type": "stream",
          "name": "stdout",
          "text": [
            "Correct answer is:\n",
            "[[0.    0.028 0.37  0.    0.97  0.    0.    0.698]\n",
            " [0.    0.    0.    0.    1.184 0.    2.654 0.  ]\n",
            " [1.13  0.564 0.    1.298 0.268 0.    0.    0.779]\n",
            " [0.825 0.    0.    1.175 0.    0.    0.    0.  ]]]\n",
            "Your answer is:\n",
            "[[0.    0.    1.982 0.    0.    1.378 0.467 0.524]\n",
            " [2.771 0.    0.32  0.    0.    1.834 1.564 1.285]\n",
            " [3.129 3.118 0.    3.633 4.296 0.    1.507 0.   ]\n",
            " [0.    1.049 2.22  0.816 0.812 0.    3.718 0.   ]]\n"
          ]
        }
      ]
    },
    {
      "cell_type": "markdown",
      "source": [
        "TODO -- Try to construct a dot-product self-attention mechanism as in practical 12.1 that respects the geometry of the graph and has zero attention between non-neighboring nodes by combining figures 13.12a and 13.12b.\n"
      ],
      "metadata": {
        "id": "QDEkIrcgrql-"
      }
    }
  ]
}