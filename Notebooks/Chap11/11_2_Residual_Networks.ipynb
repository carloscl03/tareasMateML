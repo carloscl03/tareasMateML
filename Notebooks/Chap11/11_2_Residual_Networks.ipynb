{
  "nbformat": 4,
  "nbformat_minor": 0,
  "metadata": {
    "colab": {
      "provenance": [],
      "include_colab_link": true
    },
    "kernelspec": {
      "name": "python3",
      "display_name": "Python 3"
    },
    "language_info": {
      "name": "python"
    }
  },
  "cells": [
    {
      "cell_type": "markdown",
      "metadata": {
        "id": "view-in-github",
        "colab_type": "text"
      },
      "source": [
        "<a href=\"https://colab.research.google.com/github/carloscl03/tareasMateML/blob/main/Notebooks/Chap11/11_2_Residual_Networks.ipynb\" target=\"_parent\"><img src=\"https://colab.research.google.com/assets/colab-badge.svg\" alt=\"Open In Colab\"/></a>"
      ]
    },
    {
      "cell_type": "markdown",
      "source": [
        "# **Notebook 11.2: Residual Networks**\n",
        "\n",
        "This notebook adapts the networks for MNIST1D to use residual connections.\n",
        "\n",
        "Work through the cells below, running each cell in turn. In various places you will see the words \"TO DO\". Follow the instructions at these places and make predictions about what is going to happen or write code to complete the functions.\n",
        "\n",
        "Contact me at udlbookmail@gmail.com if you find any mistakes or have any suggestions.\n",
        "\n"
      ],
      "metadata": {
        "id": "t9vk9Elugvmi"
      }
    },
    {
      "cell_type": "code",
      "source": [
        "# Run this if you're in a Colab to install MNIST 1D repository\n",
        "!pip install git+https://github.com/greydanus/mnist1d"
      ],
      "metadata": {
        "id": "D5yLObtZCi9J",
        "outputId": "98659e75-e4b5-4459-b91e-401b30bfe4b4",
        "colab": {
          "base_uri": "https://localhost:8080/"
        }
      },
      "execution_count": 1,
      "outputs": [
        {
          "output_type": "stream",
          "name": "stdout",
          "text": [
            "Collecting git+https://github.com/greydanus/mnist1d\n",
            "  Cloning https://github.com/greydanus/mnist1d to /tmp/pip-req-build-_x6flzuq\n",
            "  Running command git clone --filter=blob:none --quiet https://github.com/greydanus/mnist1d /tmp/pip-req-build-_x6flzuq\n",
            "  Resolved https://github.com/greydanus/mnist1d to commit 350929d12f4c9a4b7355e0c96604e41b9239bdb4\n",
            "  Installing build dependencies ... \u001b[?25l\u001b[?25hdone\n",
            "  Getting requirements to build wheel ... \u001b[?25l\u001b[?25hdone\n",
            "  Preparing metadata (pyproject.toml) ... \u001b[?25l\u001b[?25hdone\n",
            "Requirement already satisfied: requests in /usr/local/lib/python3.10/dist-packages (from mnist1d==0.0.2.post9) (2.31.0)\n",
            "Requirement already satisfied: numpy in /usr/local/lib/python3.10/dist-packages (from mnist1d==0.0.2.post9) (1.25.2)\n",
            "Requirement already satisfied: matplotlib in /usr/local/lib/python3.10/dist-packages (from mnist1d==0.0.2.post9) (3.7.1)\n",
            "Requirement already satisfied: scipy in /usr/local/lib/python3.10/dist-packages (from mnist1d==0.0.2.post9) (1.11.4)\n",
            "Requirement already satisfied: contourpy>=1.0.1 in /usr/local/lib/python3.10/dist-packages (from matplotlib->mnist1d==0.0.2.post9) (1.2.1)\n",
            "Requirement already satisfied: cycler>=0.10 in /usr/local/lib/python3.10/dist-packages (from matplotlib->mnist1d==0.0.2.post9) (0.12.1)\n",
            "Requirement already satisfied: fonttools>=4.22.0 in /usr/local/lib/python3.10/dist-packages (from matplotlib->mnist1d==0.0.2.post9) (4.53.0)\n",
            "Requirement already satisfied: kiwisolver>=1.0.1 in /usr/local/lib/python3.10/dist-packages (from matplotlib->mnist1d==0.0.2.post9) (1.4.5)\n",
            "Requirement already satisfied: packaging>=20.0 in /usr/local/lib/python3.10/dist-packages (from matplotlib->mnist1d==0.0.2.post9) (24.1)\n",
            "Requirement already satisfied: pillow>=6.2.0 in /usr/local/lib/python3.10/dist-packages (from matplotlib->mnist1d==0.0.2.post9) (9.4.0)\n",
            "Requirement already satisfied: pyparsing>=2.3.1 in /usr/local/lib/python3.10/dist-packages (from matplotlib->mnist1d==0.0.2.post9) (3.1.2)\n",
            "Requirement already satisfied: python-dateutil>=2.7 in /usr/local/lib/python3.10/dist-packages (from matplotlib->mnist1d==0.0.2.post9) (2.8.2)\n",
            "Requirement already satisfied: charset-normalizer<4,>=2 in /usr/local/lib/python3.10/dist-packages (from requests->mnist1d==0.0.2.post9) (3.3.2)\n",
            "Requirement already satisfied: idna<4,>=2.5 in /usr/local/lib/python3.10/dist-packages (from requests->mnist1d==0.0.2.post9) (3.7)\n",
            "Requirement already satisfied: urllib3<3,>=1.21.1 in /usr/local/lib/python3.10/dist-packages (from requests->mnist1d==0.0.2.post9) (2.0.7)\n",
            "Requirement already satisfied: certifi>=2017.4.17 in /usr/local/lib/python3.10/dist-packages (from requests->mnist1d==0.0.2.post9) (2024.6.2)\n",
            "Requirement already satisfied: six>=1.5 in /usr/local/lib/python3.10/dist-packages (from python-dateutil>=2.7->matplotlib->mnist1d==0.0.2.post9) (1.16.0)\n",
            "Building wheels for collected packages: mnist1d\n",
            "  Building wheel for mnist1d (pyproject.toml) ... \u001b[?25l\u001b[?25hdone\n",
            "  Created wheel for mnist1d: filename=mnist1d-0.0.2.post9-py3-none-any.whl size=14496 sha256=a6afef82cb0bcea18adbfb625b9d68e433e32c4640e565e68d21e713a29fee72\n",
            "  Stored in directory: /tmp/pip-ephem-wheel-cache-dwtzsf1n/wheels/41/95/55/45fcf7d38cfa97e35682da6c5017d4513729131326ce935371\n",
            "Successfully built mnist1d\n",
            "Installing collected packages: mnist1d\n",
            "Successfully installed mnist1d-0.0.2.post9\n"
          ]
        }
      ]
    },
    {
      "cell_type": "code",
      "source": [
        "import numpy as np\n",
        "import os\n",
        "import torch, torch.nn as nn\n",
        "from torch.utils.data import TensorDataset, DataLoader\n",
        "from torch.optim.lr_scheduler import StepLR\n",
        "import matplotlib.pyplot as plt\n",
        "import mnist1d\n",
        "import random"
      ],
      "metadata": {
        "id": "YrXWAH7sUWvU"
      },
      "execution_count": 2,
      "outputs": []
    },
    {
      "cell_type": "code",
      "source": [
        "args = mnist1d.data.get_dataset_args()\n",
        "data = mnist1d.data.get_dataset(args, path='./mnist1d_data.pkl', download=False, regenerate=False)\n",
        "\n",
        "# The training and test input and outputs are in\n",
        "# data['x'], data['y'], data['x_test'], and data['y_test']\n",
        "print(\"Examples in training set: {}\".format(len(data['y'])))\n",
        "print(\"Examples in test set: {}\".format(len(data['y_test'])))\n",
        "print(\"Length of each example: {}\".format(data['x'].shape[-1]))"
      ],
      "metadata": {
        "id": "twI72ZCrCt5z",
        "outputId": "5ee92b5c-6d51-4558-e48d-4344b0a85ce8",
        "colab": {
          "base_uri": "https://localhost:8080/"
        }
      },
      "execution_count": 3,
      "outputs": [
        {
          "output_type": "stream",
          "name": "stdout",
          "text": [
            "Did or could not load data from ./mnist1d_data.pkl. Rebuilding dataset...\n",
            "Examples in training set: 4000\n",
            "Examples in test set: 1000\n",
            "Length of each example: 40\n"
          ]
        }
      ]
    },
    {
      "cell_type": "code",
      "source": [
        "# Load in the data\n",
        "train_data_x = data['x'].transpose()\n",
        "train_data_y = data['y']\n",
        "val_data_x = data['x_test'].transpose()\n",
        "val_data_y = data['y_test']\n",
        "# Print out sizes\n",
        "print(\"Train data: %d examples (columns), each of which has %d dimensions (rows)\"%((train_data_x.shape[1],train_data_x.shape[0])))\n",
        "print(\"Validation data: %d examples (columns), each of which has %d dimensions (rows)\"%((val_data_x.shape[1],val_data_x.shape[0])))"
      ],
      "metadata": {
        "id": "8bKADvLHbiV5",
        "outputId": "c0e6698e-daa5-4246-96a9-92ac89b131de",
        "colab": {
          "base_uri": "https://localhost:8080/"
        }
      },
      "execution_count": 4,
      "outputs": [
        {
          "output_type": "stream",
          "name": "stdout",
          "text": [
            "Train data: 4000 examples (columns), each of which has 40 dimensions (rows)\n",
            "Validation data: 1000 examples (columns), each of which has 40 dimensions (rows)\n"
          ]
        }
      ]
    },
    {
      "cell_type": "markdown",
      "source": [
        "Define the network"
      ],
      "metadata": {
        "id": "_sFvRDGrl4qe"
      }
    },
    {
      "cell_type": "code",
      "source": [
        "# There are 40 input dimensions and 10 output dimensions for this data\n",
        "# The inputs correspond to the 40 offsets in the MNIST1D template.\n",
        "D_i = 40\n",
        "# The outputs correspond to the 10 digits\n",
        "D_o = 10\n",
        "\n",
        "\n",
        "# We will adapt this model to have residual connections around the linear layers\n",
        "# This is the same model we used in practical 8.1, but we can't use the sequential\n",
        "# class for residual networks (which aren't strictly sequential).  Hence, I've rewritten\n",
        "# it as a model that inherits from a base class\n",
        "\n",
        "class ResidualNetwork(torch.nn.Module):\n",
        "  def __init__(self, input_size, output_size, hidden_size=100):\n",
        "    super(ResidualNetwork, self).__init__()\n",
        "    self.linear1 = nn.Linear(input_size, hidden_size)\n",
        "    self.linear2 = nn.Linear(hidden_size, hidden_size)\n",
        "    self.linear3 = nn.Linear(hidden_size, hidden_size)\n",
        "    self.linear4 = nn.Linear(hidden_size, output_size)\n",
        "    print(\"Initialized MLPBase model with {} parameters\".format(self.count_params()))\n",
        "\n",
        "  def count_params(self):\n",
        "    return sum([p.view(-1).shape[0] for p in self.parameters()])\n",
        "\n",
        "# TODO -- Add residual connections to this model\n",
        "# The order of operations within each block should similar to figure 11.5b\n",
        "# ie., linear1 first, ReLU+linear2 in first residual block, ReLU+linear3 in second residual block), linear4 at end\n",
        "# Replace this function\n",
        "  def forward(self, x):\n",
        "    # First linear layer\n",
        "    h1 = self.linear1(x).relu()\n",
        "\n",
        "    # First residual block\n",
        "    h2 = self.linear2(h1).relu()\n",
        "    h2_res = h1 + h2  # Residual connection\n",
        "    h3 = self.linear3(h2_res).relu()\n",
        "\n",
        "    # Second residual block\n",
        "    h4 = self.linear3(h3).relu()\n",
        "    h4_res = h3 + h4  # Residual connection\n",
        "\n",
        "    # Final linear layer\n",
        "    return self.linear4(h4_res)\n"
      ],
      "metadata": {
        "id": "FslroPJJffrh"
      },
      "execution_count": 6,
      "outputs": []
    },
    {
      "cell_type": "code",
      "source": [
        "# He initialization of weights\n",
        "def weights_init(layer_in):\n",
        "  if isinstance(layer_in, nn.Linear):\n",
        "    nn.init.kaiming_uniform_(layer_in.weight)\n",
        "    layer_in.bias.data.fill_(0.0)"
      ],
      "metadata": {
        "id": "YgLaex1pfhqz"
      },
      "execution_count": 7,
      "outputs": []
    },
    {
      "cell_type": "code",
      "source": [
        "#Define the model\n",
        "model = ResidualNetwork(40, 10)\n",
        "\n",
        "# choose cross entropy loss function (equation 5.24 in the loss notes)\n",
        "loss_function = nn.CrossEntropyLoss()\n",
        "# construct SGD optimizer and initialize learning rate and momentum\n",
        "optimizer = torch.optim.SGD(model.parameters(), lr = 0.05, momentum=0.9)\n",
        "# object that decreases learning rate by half every 20 epochs\n",
        "scheduler = StepLR(optimizer, step_size=20, gamma=0.5)\n",
        "# convert data to torch tensors\n",
        "x_train = torch.tensor(train_data_x.transpose().astype('float32'))\n",
        "y_train = torch.tensor(train_data_y.astype('long'))\n",
        "x_val= torch.tensor(val_data_x.transpose().astype('float32'))\n",
        "y_val = torch.tensor(val_data_y.astype('long'))\n",
        "\n",
        "# load the data into a class that creates the batches\n",
        "data_loader = DataLoader(TensorDataset(x_train,y_train), batch_size=100, shuffle=True, worker_init_fn=np.random.seed(1))\n",
        "\n",
        "# Initialize model weights\n",
        "model.apply(weights_init)\n",
        "\n",
        "# loop over the dataset n_epoch times\n",
        "n_epoch = 100\n",
        "# store the loss and the % correct at each epoch\n",
        "losses_train = np.zeros((n_epoch))\n",
        "errors_train = np.zeros((n_epoch))\n",
        "losses_val = np.zeros((n_epoch))\n",
        "errors_val = np.zeros((n_epoch))\n",
        "\n",
        "for epoch in range(n_epoch):\n",
        "  # loop over batches\n",
        "  for i, data in enumerate(data_loader):\n",
        "    # retrieve inputs and labels for this batch\n",
        "    x_batch, y_batch = data\n",
        "    # zero the parameter gradients\n",
        "    optimizer.zero_grad()\n",
        "    # forward pass -- calculate model output\n",
        "    pred = model(x_batch)\n",
        "    # compute the loss\n",
        "    loss = loss_function(pred, y_batch)\n",
        "    # backward pass\n",
        "    loss.backward()\n",
        "    # SGD update\n",
        "    optimizer.step()\n",
        "\n",
        "  # Run whole dataset to get statistics -- normally wouldn't do this\n",
        "  pred_train = model(x_train)\n",
        "  pred_val = model(x_val)\n",
        "  _, predicted_train_class = torch.max(pred_train.data, 1)\n",
        "  _, predicted_val_class = torch.max(pred_val.data, 1)\n",
        "  errors_train[epoch] = 100 - 100 * (predicted_train_class == y_train).float().sum() / len(y_train)\n",
        "  errors_val[epoch]= 100 - 100 * (predicted_val_class == y_val).float().sum() / len(y_val)\n",
        "  losses_train[epoch] = loss_function(pred_train, y_train).item()\n",
        "  losses_val[epoch]= loss_function(pred_val, y_val).item()\n",
        "  print(f'Epoch {epoch:5d}, train loss {losses_train[epoch]:.6f}, train error {errors_train[epoch]:3.2f},  val loss {losses_val[epoch]:.6f}, percent error {errors_val[epoch]:3.2f}')\n",
        "\n",
        "  # tell scheduler to consider updating learning rate\n",
        "  scheduler.step()"
      ],
      "metadata": {
        "id": "NYw8I_3mmX5c",
        "outputId": "6a09f01b-cd4a-47ee-fa43-2c75ed8c75bf",
        "colab": {
          "base_uri": "https://localhost:8080/"
        }
      },
      "execution_count": 8,
      "outputs": [
        {
          "output_type": "stream",
          "name": "stdout",
          "text": [
            "Initialized MLPBase model with 25310 parameters\n",
            "Epoch     0, train loss 1.777506, train error 71.72,  val loss 1.799841, percent error 73.30\n",
            "Epoch     1, train loss 1.587473, train error 64.07,  val loss 1.633726, percent error 65.70\n",
            "Epoch     2, train loss 1.402543, train error 55.03,  val loss 1.485002, percent error 59.70\n",
            "Epoch     3, train loss 1.258464, train error 50.62,  val loss 1.372188, percent error 55.40\n",
            "Epoch     4, train loss 1.113582, train error 42.90,  val loss 1.272468, percent error 49.80\n",
            "Epoch     5, train loss 1.050194, train error 41.42,  val loss 1.281457, percent error 49.70\n",
            "Epoch     6, train loss 1.029430, train error 38.33,  val loss 1.328307, percent error 51.80\n",
            "Epoch     7, train loss 0.835242, train error 31.90,  val loss 1.177232, percent error 44.00\n",
            "Epoch     8, train loss 0.776023, train error 28.43,  val loss 1.148220, percent error 44.90\n",
            "Epoch     9, train loss 0.687910, train error 25.75,  val loss 1.117472, percent error 41.70\n",
            "Epoch    10, train loss 0.665628, train error 25.32,  val loss 1.128349, percent error 41.70\n",
            "Epoch    11, train loss 0.596326, train error 22.28,  val loss 1.098676, percent error 40.50\n",
            "Epoch    12, train loss 0.553051, train error 21.00,  val loss 1.126127, percent error 39.10\n",
            "Epoch    13, train loss 0.645892, train error 24.95,  val loss 1.166075, percent error 42.20\n",
            "Epoch    14, train loss 0.551148, train error 20.57,  val loss 1.114680, percent error 39.40\n",
            "Epoch    15, train loss 0.485146, train error 17.65,  val loss 1.129852, percent error 39.40\n",
            "Epoch    16, train loss 0.419589, train error 14.85,  val loss 1.071363, percent error 36.00\n",
            "Epoch    17, train loss 0.386162, train error 14.38,  val loss 1.177433, percent error 36.60\n",
            "Epoch    18, train loss 0.518880, train error 18.55,  val loss 1.302939, percent error 39.20\n",
            "Epoch    19, train loss 0.357984, train error 13.43,  val loss 1.181646, percent error 36.10\n",
            "Epoch    20, train loss 0.172606, train error 4.85,  val loss 1.062476, percent error 34.20\n",
            "Epoch    21, train loss 0.139193, train error 4.03,  val loss 1.207804, percent error 34.30\n",
            "Epoch    22, train loss 0.099388, train error 2.35,  val loss 1.184407, percent error 33.50\n",
            "Epoch    23, train loss 0.073883, train error 1.43,  val loss 1.227565, percent error 33.30\n",
            "Epoch    24, train loss 0.064199, train error 0.90,  val loss 1.340186, percent error 34.00\n",
            "Epoch    25, train loss 0.050339, train error 0.62,  val loss 1.375165, percent error 33.40\n",
            "Epoch    26, train loss 0.046418, train error 0.70,  val loss 1.373114, percent error 33.40\n",
            "Epoch    27, train loss 0.030677, train error 0.20,  val loss 1.474469, percent error 34.10\n",
            "Epoch    28, train loss 0.023475, train error 0.12,  val loss 1.525156, percent error 33.60\n",
            "Epoch    29, train loss 0.020707, train error 0.05,  val loss 1.599311, percent error 34.80\n",
            "Epoch    30, train loss 0.016086, train error 0.05,  val loss 1.626802, percent error 34.80\n",
            "Epoch    31, train loss 0.013574, train error 0.03,  val loss 1.634780, percent error 34.80\n",
            "Epoch    32, train loss 0.011759, train error 0.03,  val loss 1.699835, percent error 34.30\n",
            "Epoch    33, train loss 0.010272, train error 0.03,  val loss 1.717173, percent error 34.30\n",
            "Epoch    34, train loss 0.008860, train error 0.03,  val loss 1.769901, percent error 35.20\n",
            "Epoch    35, train loss 0.007963, train error 0.00,  val loss 1.794909, percent error 34.50\n",
            "Epoch    36, train loss 0.007208, train error 0.00,  val loss 1.830586, percent error 34.90\n",
            "Epoch    37, train loss 0.006670, train error 0.00,  val loss 1.848945, percent error 34.40\n",
            "Epoch    38, train loss 0.006046, train error 0.00,  val loss 1.884385, percent error 35.30\n",
            "Epoch    39, train loss 0.005563, train error 0.00,  val loss 1.899312, percent error 34.90\n",
            "Epoch    40, train loss 0.005284, train error 0.00,  val loss 1.916232, percent error 35.20\n",
            "Epoch    41, train loss 0.005078, train error 0.00,  val loss 1.929041, percent error 35.20\n",
            "Epoch    42, train loss 0.004909, train error 0.00,  val loss 1.939668, percent error 35.00\n",
            "Epoch    43, train loss 0.004758, train error 0.00,  val loss 1.949630, percent error 35.10\n",
            "Epoch    44, train loss 0.004589, train error 0.00,  val loss 1.956161, percent error 35.00\n",
            "Epoch    45, train loss 0.004448, train error 0.00,  val loss 1.969903, percent error 35.40\n",
            "Epoch    46, train loss 0.004309, train error 0.00,  val loss 1.978641, percent error 35.10\n",
            "Epoch    47, train loss 0.004187, train error 0.00,  val loss 1.986897, percent error 35.20\n",
            "Epoch    48, train loss 0.004063, train error 0.00,  val loss 1.997361, percent error 35.20\n",
            "Epoch    49, train loss 0.003940, train error 0.00,  val loss 2.009691, percent error 35.20\n",
            "Epoch    50, train loss 0.003834, train error 0.00,  val loss 2.013918, percent error 35.00\n",
            "Epoch    51, train loss 0.003739, train error 0.00,  val loss 2.021808, percent error 35.20\n",
            "Epoch    52, train loss 0.003634, train error 0.00,  val loss 2.034358, percent error 35.10\n",
            "Epoch    53, train loss 0.003538, train error 0.00,  val loss 2.042564, percent error 35.20\n",
            "Epoch    54, train loss 0.003447, train error 0.00,  val loss 2.046359, percent error 34.90\n",
            "Epoch    55, train loss 0.003353, train error 0.00,  val loss 2.059097, percent error 35.50\n",
            "Epoch    56, train loss 0.003271, train error 0.00,  val loss 2.064101, percent error 35.10\n",
            "Epoch    57, train loss 0.003189, train error 0.00,  val loss 2.075759, percent error 35.20\n",
            "Epoch    58, train loss 0.003114, train error 0.00,  val loss 2.080441, percent error 35.00\n",
            "Epoch    59, train loss 0.003040, train error 0.00,  val loss 2.088282, percent error 34.90\n",
            "Epoch    60, train loss 0.002999, train error 0.00,  val loss 2.094212, percent error 35.10\n",
            "Epoch    61, train loss 0.002964, train error 0.00,  val loss 2.098454, percent error 35.10\n",
            "Epoch    62, train loss 0.002930, train error 0.00,  val loss 2.101572, percent error 35.00\n",
            "Epoch    63, train loss 0.002900, train error 0.00,  val loss 2.103815, percent error 35.10\n",
            "Epoch    64, train loss 0.002865, train error 0.00,  val loss 2.108360, percent error 35.20\n",
            "Epoch    65, train loss 0.002834, train error 0.00,  val loss 2.111922, percent error 35.20\n",
            "Epoch    66, train loss 0.002803, train error 0.00,  val loss 2.115094, percent error 35.30\n",
            "Epoch    67, train loss 0.002773, train error 0.00,  val loss 2.118375, percent error 35.30\n",
            "Epoch    68, train loss 0.002742, train error 0.00,  val loss 2.122227, percent error 35.30\n",
            "Epoch    69, train loss 0.002713, train error 0.00,  val loss 2.125747, percent error 35.20\n",
            "Epoch    70, train loss 0.002685, train error 0.00,  val loss 2.128879, percent error 35.30\n",
            "Epoch    71, train loss 0.002656, train error 0.00,  val loss 2.133712, percent error 35.40\n",
            "Epoch    72, train loss 0.002628, train error 0.00,  val loss 2.135141, percent error 35.30\n",
            "Epoch    73, train loss 0.002602, train error 0.00,  val loss 2.139208, percent error 35.30\n",
            "Epoch    74, train loss 0.002576, train error 0.00,  val loss 2.141645, percent error 35.40\n",
            "Epoch    75, train loss 0.002549, train error 0.00,  val loss 2.145167, percent error 35.30\n",
            "Epoch    76, train loss 0.002524, train error 0.00,  val loss 2.149696, percent error 35.40\n",
            "Epoch    77, train loss 0.002498, train error 0.00,  val loss 2.152009, percent error 35.30\n",
            "Epoch    78, train loss 0.002474, train error 0.00,  val loss 2.154148, percent error 35.30\n",
            "Epoch    79, train loss 0.002449, train error 0.00,  val loss 2.158043, percent error 35.40\n",
            "Epoch    80, train loss 0.002437, train error 0.00,  val loss 2.159384, percent error 35.30\n",
            "Epoch    81, train loss 0.002424, train error 0.00,  val loss 2.160700, percent error 35.50\n",
            "Epoch    82, train loss 0.002413, train error 0.00,  val loss 2.162868, percent error 35.40\n",
            "Epoch    83, train loss 0.002401, train error 0.00,  val loss 2.163969, percent error 35.30\n",
            "Epoch    84, train loss 0.002389, train error 0.00,  val loss 2.166111, percent error 35.30\n",
            "Epoch    85, train loss 0.002378, train error 0.00,  val loss 2.166981, percent error 35.40\n",
            "Epoch    86, train loss 0.002367, train error 0.00,  val loss 2.169372, percent error 35.40\n",
            "Epoch    87, train loss 0.002356, train error 0.00,  val loss 2.170271, percent error 35.40\n",
            "Epoch    88, train loss 0.002345, train error 0.00,  val loss 2.172099, percent error 35.30\n",
            "Epoch    89, train loss 0.002333, train error 0.00,  val loss 2.173534, percent error 35.40\n",
            "Epoch    90, train loss 0.002322, train error 0.00,  val loss 2.174866, percent error 35.40\n",
            "Epoch    91, train loss 0.002311, train error 0.00,  val loss 2.176610, percent error 35.40\n",
            "Epoch    92, train loss 0.002300, train error 0.00,  val loss 2.177855, percent error 35.40\n",
            "Epoch    93, train loss 0.002290, train error 0.00,  val loss 2.179876, percent error 35.40\n",
            "Epoch    94, train loss 0.002279, train error 0.00,  val loss 2.181035, percent error 35.40\n",
            "Epoch    95, train loss 0.002269, train error 0.00,  val loss 2.182593, percent error 35.40\n",
            "Epoch    96, train loss 0.002258, train error 0.00,  val loss 2.183830, percent error 35.40\n",
            "Epoch    97, train loss 0.002248, train error 0.00,  val loss 2.185822, percent error 35.40\n",
            "Epoch    98, train loss 0.002238, train error 0.00,  val loss 2.186700, percent error 35.40\n",
            "Epoch    99, train loss 0.002227, train error 0.00,  val loss 2.188290, percent error 35.40\n"
          ]
        }
      ]
    },
    {
      "cell_type": "code",
      "source": [
        "# Plot the results\n",
        "fig, ax = plt.subplots()\n",
        "ax.plot(errors_train,'r-',label='train')\n",
        "ax.plot(errors_val,'b-',label='test')\n",
        "ax.set_ylim(0,100); ax.set_xlim(0,n_epoch)\n",
        "ax.set_xlabel('Epoch'); ax.set_ylabel('Error')\n",
        "ax.set_title('TrainError %3.2f, Val Error %3.2f'%(errors_train[-1],errors_val[-1]))\n",
        "ax.legend()\n",
        "plt.show()"
      ],
      "metadata": {
        "id": "CcP_VyEmE2sv",
        "outputId": "21e20e09-bfe3-4641-bc00-cfd47bdc829b",
        "colab": {
          "base_uri": "https://localhost:8080/",
          "height": 472
        }
      },
      "execution_count": 9,
      "outputs": [
        {
          "output_type": "display_data",
          "data": {
            "text/plain": [
              "<Figure size 640x480 with 1 Axes>"
            ],
            "image/png": "[encoded data removed]"
          },
          "metadata": {}
        }
      ]
    },
    {
      "cell_type": "markdown",
      "source": [
        "The primary motivation of residual networks is to allow training of much deeper networks.   \n",
        "\n",
        "TODO: Try running this network with and without the residual connections.  Does adding the residual connections change the performance?"
      ],
      "metadata": {
        "id": "wMmqhmxuAx0M"
      }
    }
  ]
}